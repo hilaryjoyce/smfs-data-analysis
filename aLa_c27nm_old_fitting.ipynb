{
 "metadata": {
  "name": "aLa_c27nm_old_fitting"
 },
 "nbformat": 3,
 "nbformat_minor": 0,
 "worksheets": [
  {
   "cells": [
    {
     "cell_type": "code",
     "collapsed": false,
     "input": [
      "%load_ext autoreload"
     ],
     "language": "python",
     "metadata": {},
     "outputs": [],
     "prompt_number": 8
    },
    {
     "cell_type": "code",
     "collapsed": false,
     "input": [
      "%autoreload 2\n",
      "from glob import glob\n",
      "from Tss_force.tss_force import saveTssForce\n",
      "from Transform.Lc_transform import saveLcList\n",
      "import Transform.Lc_transform as trans\n",
      "from Density.kernel_density import saveKDE\n",
      "from Extra_code.essentials import load2Col, findPeaks, allWLC, curveNumFinder"
     ],
     "language": "python",
     "metadata": {},
     "outputs": [],
     "prompt_number": 97
    },
    {
     "cell_type": "code",
     "collapsed": false,
     "input": [
      "sup_folder = \"2013_aLa_c27nm_3Hz\"\n",
      "name_list = [\"Apr29_aLa_c27nm_3Hz\", \"May03_aLa_c27nm_3Hz\", \"May02_aLa_c27nm_3Hz\", \"Apr30_aLa_c27nm_3Hz\"]"
     ],
     "language": "python",
     "metadata": {},
     "outputs": [],
     "prompt_number": 1
    },
    {
     "cell_type": "code",
     "collapsed": false,
     "input": [
      "folder_list = [\"../Data/%s/%s/\" % (sup_folder, name) for name in name_list]"
     ],
     "language": "python",
     "metadata": {},
     "outputs": [],
     "prompt_number": 2
    },
    {
     "cell_type": "code",
     "collapsed": false,
     "input": [
      "print folder_list"
     ],
     "language": "python",
     "metadata": {},
     "outputs": [
      {
       "output_type": "stream",
       "stream": "stdout",
       "text": [
        "['../Data/2013_aLa_c27nm_3Hz/Apr29_aLa_c27nm_3Hz/', '../Data/2013_aLa_c27nm_3Hz/May03_aLa_c27nm_3Hz/', '../Data/2013_aLa_c27nm_3Hz/May02_aLa_c27nm_3Hz/', '../Data/2013_aLa_c27nm_3Hz/Apr30_aLa_c27nm_3Hz/']\n"
       ]
      }
     ],
     "prompt_number": 4
    },
    {
     "cell_type": "code",
     "collapsed": false,
     "input": [
      "for folder in folder_list:\n",
      "    saveTssForce(folder, type='RDF')"
     ],
     "language": "python",
     "metadata": {},
     "outputs": [],
     "prompt_number": 10
    },
    {
     "cell_type": "code",
     "collapsed": false,
     "input": [
      "param_list = []\n",
      "for folder in folder_list:\n",
      "    param_list.append(saveLcList(folder, minTss=0, minForce=25))"
     ],
     "language": "python",
     "metadata": {},
     "outputs": [],
     "prompt_number": 112
    },
    {
     "cell_type": "code",
     "collapsed": false,
     "input": [
      "for param_folder in param_list:\n",
      "    saveKDE(param_folder, max_x = 300)"
     ],
     "language": "python",
     "metadata": {},
     "outputs": [
      {
       "output_type": "stream",
       "stream": "stdout",
       "text": [
        "../Data/2013_aLa_c27nm_3Hz/Apr29_aLa_c27nm_3Hz/Transform_analysis/Parameters_p0.4_minTss0_minForce25/Density_text_max300/\n",
        "../Data/2013_aLa_c27nm_3Hz/May03_aLa_c27nm_3Hz/Transform_analysis/Parameters_p0.4_minTss0_minForce25/Density_text_max300/"
       ]
      },
      {
       "output_type": "stream",
       "stream": "stdout",
       "text": [
        "\n",
        "../Data/2013_aLa_c27nm_3Hz/May02_aLa_c27nm_3Hz/Transform_analysis/Parameters_p0.4_minTss0_minForce25/Density_text_max300/"
       ]
      },
      {
       "output_type": "stream",
       "stream": "stdout",
       "text": [
        "\n",
        "../Data/2013_aLa_c27nm_3Hz/Apr30_aLa_c27nm_3Hz/Transform_analysis/Parameters_p0.4_minTss0_minForce25/Density_text_max300/"
       ]
      },
      {
       "output_type": "stream",
       "stream": "stdout",
       "text": [
        "\n"
       ]
      }
     ],
     "prompt_number": 234
    },
    {
     "cell_type": "code",
     "collapsed": false,
     "input": [
      "density_folders =[\"../Data/2013_aLa_c27nm_3Hz/Apr29_aLa_c27nm_3Hz/Transform_analysis/Parameters_p0.4_minTss0_minForce25/Density_text_max300/\", \"../Data/2013_aLa_c27nm_3Hz/May03_aLa_c27nm_3Hz/Transform_analysis/Parameters_p0.4_minTss0_minForce25/Density_text_max300/\", \"../Data/2013_aLa_c27nm_3Hz/May02_aLa_c27nm_3Hz/Transform_analysis/Parameters_p0.4_minTss0_minForce25/Density_text_max300/\", \"../Data/2013_aLa_c27nm_3Hz/Apr30_aLa_c27nm_3Hz/Transform_analysis/Parameters_p0.4_minTss0_minForce25/Density_text_max300/\"]"
     ],
     "language": "python",
     "metadata": {},
     "outputs": [],
     "prompt_number": 235
    },
    {
     "cell_type": "code",
     "collapsed": false,
     "input": [
      "print density_folders"
     ],
     "language": "python",
     "metadata": {},
     "outputs": [
      {
       "output_type": "stream",
       "stream": "stdout",
       "text": [
        "['../Data/2013_aLa_c27nm_3Hz/Apr29_aLa_c27nm_3Hz/Transform_analysis/Parameters_p0.4_minTss0_minForce25/Density_text_max300/', '../Data/2013_aLa_c27nm_3Hz/May03_aLa_c27nm_3Hz/Transform_analysis/Parameters_p0.4_minTss0_minForce25/Density_text_max300/', '../Data/2013_aLa_c27nm_3Hz/May02_aLa_c27nm_3Hz/Transform_analysis/Parameters_p0.4_minTss0_minForce25/Density_text_max300/', '../Data/2013_aLa_c27nm_3Hz/Apr30_aLa_c27nm_3Hz/Transform_analysis/Parameters_p0.4_minTss0_minForce25/Density_text_max300/']\n"
       ]
      }
     ],
     "prompt_number": 236
    },
    {
     "cell_type": "code",
     "collapsed": false,
     "input": [
      "set = 1\n",
      "print folder_list[set]"
     ],
     "language": "python",
     "metadata": {},
     "outputs": [
      {
       "output_type": "stream",
       "stream": "stdout",
       "text": [
        "../Data/2013_aLa_c27nm_3Hz/May03_aLa_c27nm_3Hz/\n"
       ]
      }
     ],
     "prompt_number": 269
    },
    {
     "cell_type": "code",
     "collapsed": false,
     "input": [
      "tss_force = glob('%s/Tss_Force_text/*.txt' % folder_list[set])\n",
      "density = glob(\"%s*.txt\"% density_folders[set])"
     ],
     "language": "python",
     "metadata": {},
     "outputs": [],
     "prompt_number": 270
    },
    {
     "cell_type": "code",
     "collapsed": false,
     "input": [
      "print density[0]"
     ],
     "language": "python",
     "metadata": {},
     "outputs": [
      {
       "output_type": "stream",
       "stream": "stdout",
       "text": [
        "../Data/2013_aLa_c27nm_3Hz/May03_aLa_c27nm_3Hz/Transform_analysis/Parameters_p0.4_minTss0_minForce25/Density_text_max300/Density_003.txt\n"
       ]
      }
     ],
     "prompt_number": 271
    },
    {
     "cell_type": "code",
     "collapsed": false,
     "input": [
      "tf_list = [load2Col(file) for file in tss_force]\n",
      "lcd_list = [load2Col(file) for file in density]"
     ],
     "language": "python",
     "metadata": {},
     "outputs": [],
     "prompt_number": 272
    },
    {
     "cell_type": "code",
     "collapsed": false,
     "input": [
      "num_list = [curveNumFinder(file) for file in density]"
     ],
     "language": "python",
     "metadata": {},
     "outputs": [],
     "prompt_number": 273
    },
    {
     "cell_type": "code",
     "collapsed": false,
     "input": [
      "peak_list = [findPeaks(lc, d, 0.2) for [lc, d] in lcd_list]"
     ],
     "language": "python",
     "metadata": {},
     "outputs": [],
     "prompt_number": 274
    },
    {
     "cell_type": "code",
     "collapsed": false,
     "input": [
      "wlc_fits = [allWLC(peaks[0]) for peaks in peak_list]"
     ],
     "language": "python",
     "metadata": {},
     "outputs": [],
     "prompt_number": 275
    },
    {
     "cell_type": "code",
     "collapsed": false,
     "input": [
      "cnum = '173'\n",
      "id = where(asarray(num_list) == cnum)[0][0]\n",
      "print 'Curve ' + num_list[id]\n",
      "\n",
      "figsize(12,4)\n",
      "subplot(1,2,1)\n",
      "plot(tf_list[id][0], tf_list[id][1])\n",
      "for wlc in wlc_fits[id]:\n",
      "    plot(wlc[0], wlc[1], 'r-')\n",
      "xlim(0,200)\n",
      "ylim(-100,500)\n",
      "subplot(1,2,2)\n",
      "plot(lcd_list[id][0], lcd_list[id][1])\n",
      "plot(peak_list[id][0], peak_list[id][1], 'ro')\n",
      "xlim(0,200)\n",
      "for peak in zip(peak_list[id][0], peak_list[id][1]):\n",
      "    print ('%s nm (%.4f)' % (str(peak[0]), peak[1]))"
     ],
     "language": "python",
     "metadata": {},
     "outputs": [
      {
       "output_type": "stream",
       "stream": "stdout",
       "text": [
        "Curve 173\n",
        "2.75 nm (0.0256)"
       ]
      },
      {
       "output_type": "stream",
       "stream": "stdout",
       "text": [
        "\n",
        "22.0 nm (0.0137)\n",
        "285.5 nm (0.0055)\n"
       ]
      },
      {
       "output_type": "display_data",
       "png": "[encoded data removed]",
       "text": [
        "<matplotlib.figure.Figure at 0x10d633e90>"
       ]
      }
     ],
     "prompt_number": 280
    },
    {
     "cell_type": "code",
     "collapsed": false,
     "input": [],
     "language": "python",
     "metadata": {},
     "outputs": []
    }
   ],
   "metadata": {}
  }
 ]
}