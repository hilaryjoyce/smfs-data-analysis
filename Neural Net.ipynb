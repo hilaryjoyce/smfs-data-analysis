{
 "metadata": {
  "name": "Neural Net"
 },
 "nbformat": 3,
 "nbformat_minor": 0,
 "worksheets": [
  {
   "cells": [
    {
     "cell_type": "code",
     "collapsed": false,
     "input": [
      "from Extra_code.essentials import *\n",
      "import Transform.Lc_transform as transform\n",
      "import Tss_force.tss_force as tf\n",
      "cpool = [\"#1F78B4\", \"#E31A1C\", \"#A6CEE3\", \"#FB9A99\", \"#7BCCC4\", \"#B2DF8A\", \"#33A02C\", \"#02818A\", \"#FF7F00\", \"#FDBF6F\", \"#CAB2D6\", \"#6A3D9A\", \"#BFD3E6\", \"#8C96C6\"]"
     ],
     "language": "python",
     "metadata": {},
     "outputs": [],
     "prompt_number": 40
    },
    {
     "cell_type": "code",
     "collapsed": false,
     "input": [
      "folder = \"../Data/aLa_flat_medium/\""
     ],
     "language": "python",
     "metadata": {},
     "outputs": [],
     "prompt_number": 38
    },
    {
     "cell_type": "code",
     "collapsed": false,
     "input": [
      "tf_list, cnum_list = tf.tss_force_list(folder, type='RDF')"
     ],
     "language": "python",
     "metadata": {},
     "outputs": [],
     "prompt_number": 39
    },
    {
     "cell_type": "code",
     "collapsed": false,
     "input": [
      "force_list = [tf[1] for tf in tf_list]"
     ],
     "language": "python",
     "metadata": {},
     "outputs": [],
     "prompt_number": 83
    },
    {
     "cell_type": "code",
     "collapsed": false,
     "input": [
      "plot(force_list[0])\n",
      "plot(short_force_list[0])"
     ],
     "language": "python",
     "metadata": {},
     "outputs": [
      {
       "output_type": "pyout",
       "prompt_number": 86,
       "text": [
        "[<matplotlib.lines.Line2D at 0x110cd6e90>]"
       ]
      },
      {
       "output_type": "display_data",
       "png": "[encoded data removed]",
       "text": [
        "<matplotlib.figure.Figure at 0x110cd6a10>"
       ]
      }
     ],
     "prompt_number": 86
    },
    {
     "cell_type": "code",
     "collapsed": false,
     "input": [
      "lim_force_list = []\n",
      "lim_tss_list = []\n",
      "for tf in tf_list:\n",
      "    tss = tf[0]\n",
      "    force = tf[1]\n",
      "    tss_lim, force_lim = transform.remove_adhesion_peak(tss, force)\n",
      "    lim_force_list.append(force_lim)\n",
      "    lim_tss_list.append(tss_lim)"
     ],
     "language": "python",
     "metadata": {},
     "outputs": [],
     "prompt_number": 52
    },
    {
     "cell_type": "code",
     "collapsed": false,
     "input": [
      "lengths = [len(force) for force in lim_force_list]\n",
      "minlength = min(lengths)\n",
      "short_force_list = [force[0:minlength] for force in lim_force_list]\n",
      "short_lim_list = [tss[0:minlength] for tss in lim_tss_list]"
     ],
     "language": "python",
     "metadata": {},
     "outputs": [],
     "prompt_number": 63
    },
    {
     "cell_type": "code",
     "collapsed": false,
     "input": [
      "import pickle as pk"
     ],
     "language": "python",
     "metadata": {},
     "outputs": [],
     "prompt_number": 76
    },
    {
     "cell_type": "code",
     "collapsed": false,
     "input": [
      "pk.dump(force_list, open('%sforce_samples15.pkl' % folder, 'w'))\n",
      "pk.dump(short_force_list, open('%sforce_short_samples15.pkl' % folder, 'w'))"
     ],
     "language": "python",
     "metadata": {},
     "outputs": [],
     "prompt_number": 87
    },
    {
     "cell_type": "code",
     "collapsed": false,
     "input": [
      "data = pk.load(open('%sforce_samples15.pkl', 'r'))"
     ],
     "language": "python",
     "metadata": {},
     "outputs": [],
     "prompt_number": 78
    },
    {
     "cell_type": "code",
     "collapsed": false,
     "input": [
      "for force in force_list:\n",
      "    print len(force)"
     ],
     "language": "python",
     "metadata": {},
     "outputs": [
      {
       "output_type": "stream",
       "stream": "stdout",
       "text": [
        "6144\n",
        "6144\n",
        "6144\n",
        "6144\n",
        "6144\n",
        "6144\n",
        "6144\n",
        "6144\n",
        "6144\n",
        "6144\n",
        "6144\n",
        "6144\n",
        "6144\n",
        "6144\n",
        "6144\n"
       ]
      }
     ],
     "prompt_number": 88
    },
    {
     "cell_type": "code",
     "collapsed": false,
     "input": [],
     "language": "python",
     "metadata": {},
     "outputs": []
    }
   ],
   "metadata": {}
  }
 ]
}