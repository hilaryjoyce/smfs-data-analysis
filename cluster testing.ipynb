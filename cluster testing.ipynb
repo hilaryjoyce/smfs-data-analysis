{
 "metadata": {
  "name": "cluster testing"
 },
 "nbformat": 3,
 "nbformat_minor": 0,
 "worksheets": [
  {
   "cells": [
    {
     "cell_type": "code",
     "collapsed": false,
     "input": [
      "%load_ext autoreload"
     ],
     "language": "python",
     "metadata": {},
     "outputs": [],
     "prompt_number": 1
    },
    {
     "cell_type": "code",
     "collapsed": false,
     "input": [
      "%autoreload 2\n",
      "import Cluster.clustering as c\n",
      "import scipy.cluster.hierarchy as hier"
     ],
     "language": "python",
     "metadata": {},
     "outputs": [],
     "prompt_number": 4
    },
    {
     "cell_type": "code",
     "collapsed": false,
     "input": [
      "parameter_folder = \"../Data/aLa_flat_medium/Transform_analysis/Parameters_p0.4_minTss5_minForce45/\"\n",
      "shift = 'No'\n",
      "coincidence_folder = parameter_folder+\"NoShift/\""
     ],
     "language": "python",
     "metadata": {},
     "outputs": [],
     "prompt_number": 5
    },
    {
     "cell_type": "code",
     "collapsed": false,
     "input": [
      "coa = c.CoAnalysis(parameter_folder, shift)"
     ],
     "language": "python",
     "metadata": {},
     "outputs": [],
     "prompt_number": 39
    },
    {
     "cell_type": "code",
     "collapsed": false,
     "input": [
      "print coa.list_curve_names()\n",
      "print coa.list_curve_indexes()"
     ],
     "language": "python",
     "metadata": {},
     "outputs": [
      {
       "output_type": "stream",
       "stream": "stdout",
       "text": [
        "['019', '256', 'a030', 'a693', 'b230', 'b239', 'b577', 'b836', 'b926', 'b933', 'b940', 'c331', 'c339', 'c766', 'c816']\n",
        "[0, 1, 2, 3, 4, 5, 6, 7, 8, 9, 10, 11, 12, 13, 14]\n"
       ]
      }
     ],
     "prompt_number": 40
    },
    {
     "cell_type": "code",
     "collapsed": false,
     "input": [
      "print coa"
     ],
     "language": "python",
     "metadata": {},
     "outputs": [
      {
       "output_type": "stream",
       "stream": "stdout",
       "text": [
        "../Data/aLa_flat_medium/Transform_analysis/Parameters_p0.4_minTss5_minForce45/\n",
        "Hierarchical clustering at max_shift = No\n",
        "Number of curves = 15\n",
        "\n"
       ]
      }
     ],
     "prompt_number": 41
    },
    {
     "cell_type": "code",
     "collapsed": false,
     "input": [
      "Z = coa.hierarchical_cluster()"
     ],
     "language": "python",
     "metadata": {},
     "outputs": [],
     "prompt_number": 23
    },
    {
     "cell_type": "code",
     "collapsed": false,
     "input": [
      "coa.plot_dendrogram();"
     ],
     "language": "python",
     "metadata": {},
     "outputs": [
      {
       "output_type": "display_data",
       "png": "[encoded data removed]",
       "text": [
        "<matplotlib.figure.Figure at 0x10a2e64d0>"
       ]
      }
     ],
     "prompt_number": 24
    },
    {
     "cell_type": "code",
     "collapsed": false,
     "input": [
      "F = c.FlatClusters(parameter_folder=parameter_folder, max_shift='No', co_cut=0.4)"
     ],
     "language": "python",
     "metadata": {},
     "outputs": [],
     "prompt_number": 25
    },
    {
     "cell_type": "code",
     "collapsed": false,
     "input": [
      "print F.ordered_clusters()"
     ],
     "language": "python",
     "metadata": {},
     "outputs": [
      {
       "output_type": "stream",
       "stream": "stdout",
       "text": [
        "(array([3, 2, 1]), array([9, 3, 3]))\n"
       ]
      }
     ],
     "prompt_number": 26
    },
    {
     "cell_type": "code",
     "collapsed": false,
     "input": [
      "print F.get_shift_array()"
     ],
     "language": "python",
     "metadata": {},
     "outputs": [
      {
       "output_type": "stream",
       "stream": "stdout",
       "text": [
        "[ 32.3  26.5   3.   24.    0.    2.8  -4.    2.3  25.3  16.3   0.    0.\n",
        "  -8.8  22.3  -5.8 -64.8  -7.8   0.   -6.8 -15.8  -5.8  -0.8 -16.    0.\n",
        "   0.  -15.8  -9.8 -59.   -2.3   0.   -1.3 -10.    0.    5.3 -10.3   0.\n",
        "   0.  -10.   -4.3  56.8   0.   -1.   -9.    0.8  22.5  49.    0.    0.\n",
        "  -9.8  55.    0.    1.   -8.    3.    7.8  -8.3   0.    0.   -7.8  -2.\n",
        "   0.    0.    0.    0.    0.    0.    0.    0.    0.   -8.8   2.3   5.8\n",
        "  -9.    0.    0.   -8.8  -2.8  -3.5   6.5  -0.5   0.    0.    0.    5.3\n",
        "   2.3  -9.5   0.    0.  -11.   -3.5 -10.3   0.    0.  -14.8  -4.    0.\n",
        "   0.    0.3   6.    0.    0.    0.    0.    0.    6. ]\n"
       ]
      }
     ],
     "prompt_number": 27
    },
    {
     "cell_type": "code",
     "collapsed": false,
     "input": [
      "print F"
     ],
     "language": "python",
     "metadata": {},
     "outputs": [
      {
       "output_type": "stream",
       "stream": "stdout",
       "text": [
        "../Data/aLa_flat_medium/Transform_analysis/Parameters_p0.4_minTss5_minForce45/\n",
        "Flatted cluster at minimum coincidence 0.4\n",
        "3 clusters of 15 curves\n",
        "\n"
       ]
      }
     ],
     "prompt_number": 28
    },
    {
     "cell_type": "code",
     "collapsed": false,
     "input": [
      "print F.ordered_clusters()"
     ],
     "language": "python",
     "metadata": {},
     "outputs": [
      {
       "output_type": "stream",
       "stream": "stdout",
       "text": [
        "(array([3, 2, 1]), array([9, 3, 3]))\n"
       ]
      }
     ],
     "prompt_number": 29
    },
    {
     "cell_type": "code",
     "collapsed": false,
     "input": [
      "c3 = c.Cluster(F, 3)"
     ],
     "language": "python",
     "metadata": {},
     "outputs": [],
     "prompt_number": 30
    },
    {
     "cell_type": "code",
     "collapsed": false,
     "input": [
      "print c3.list_curve_indexes()\n",
      "print c3.list_curve_names()"
     ],
     "language": "python",
     "metadata": {},
     "outputs": [
      {
       "output_type": "stream",
       "stream": "stdout",
       "text": [
        "[1, 2, 4, 6, 8, 9, 10, 13, 14]\n",
        "['256', 'a030', 'b230', 'b577', 'b926', 'b933', 'b940', 'c766', 'c816']\n"
       ]
      }
     ],
     "prompt_number": 31
    },
    {
     "cell_type": "code",
     "collapsed": false,
     "input": [
      "def map_pair_to_report(coa, c1, c2, mode):\n",
      "    ''' Takes two curves (by index 0:N) and returns the corresponding\n",
      "        index in the pair report specified by mode ('co', 'shift', 'curve1', 'curve2')\n",
      "    '''\n",
      "    curve_indexes = coa.list_curve_indexes()\n",
      "    if c1 > c2:\n",
      "        c2, c1 = c1, c2\n",
      "    pair_index = sum(curve_indexes[::-1][0:c1]) + c2 - c1 - 1\n",
      "    if mode == 'curve1':\n",
      "        return coa.get_curve1_array()[pair_index]\n",
      "    if mode == 'curve2':\n",
      "        return coa.get_curve2_array()[pair_index]\n",
      "    if mode == 'co':\n",
      "        return coa.get_coincidence_array()[pair_index]\n",
      "    if mode == 'shift':\n",
      "        return coa.get_shift_array()[pair_index]\n",
      "    else:\n",
      "        print 'Invalid mode, try {co, shift, curve1, curve2}'\n",
      "        return None"
     ],
     "language": "python",
     "metadata": {},
     "outputs": [],
     "prompt_number": 37
    },
    {
     "cell_type": "code",
     "collapsed": false,
     "input": [
      "print map_pair_to_report(coa, mode='curve1', c1=4, c2=8)\n",
      "print map_pair_to_report(coa, mode='curve2', c1=4, c2=8)"
     ],
     "language": "python",
     "metadata": {},
     "outputs": [
      {
       "output_type": "pyout",
       "prompt_number": 42,
       "text": [
        "'b230'"
       ]
      }
     ],
     "prompt_number": 42
    },
    {
     "cell_type": "code",
     "collapsed": false,
     "input": [],
     "language": "python",
     "metadata": {},
     "outputs": []
    }
   ],
   "metadata": {}
  }
 ]
}