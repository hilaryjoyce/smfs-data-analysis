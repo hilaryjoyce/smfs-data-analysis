{
 "metadata": {
  "name": "cluster testing"
 },
 "nbformat": 3,
 "nbformat_minor": 0,
 "worksheets": [
  {
   "cells": [
    {
     "cell_type": "code",
     "collapsed": false,
     "input": [
      "%load_ext autoreload"
     ],
     "language": "python",
     "metadata": {},
     "outputs": [
      {
       "output_type": "stream",
       "stream": "stdout",
       "text": [
        "The autoreload extension is already loaded. To reload it, use:\n",
        "  %reload_ext autoreload\n"
       ]
      }
     ],
     "prompt_number": 51
    },
    {
     "cell_type": "code",
     "collapsed": false,
     "input": [
      "%autoreload 2\n",
      "import Cluster.clustering as clustering\n",
      "import scipy.cluster.hierarchy as hier\n",
      "import re"
     ],
     "language": "python",
     "metadata": {},
     "outputs": [],
     "prompt_number": 122
    },
    {
     "cell_type": "code",
     "collapsed": false,
     "input": [
      "parameter_folder = \"../Data/aLa_flat_medium/Transform_analysis/Parameters_p0.4_minTss5_minForce45/\"\n",
      "coincidence_folder = parameter_folder+\"NoShift/\""
     ],
     "language": "python",
     "metadata": {},
     "outputs": [],
     "prompt_number": 214
    },
    {
     "cell_type": "code",
     "collapsed": false,
     "input": [
      "co_report_file = coincidence_folder + \"coincidence_report.txt\""
     ],
     "language": "python",
     "metadata": {},
     "outputs": [],
     "prompt_number": 215
    },
    {
     "cell_type": "code",
     "collapsed": false,
     "input": [
      "curve1, curve2, co, shift = clustering.load_coincidence(co_report_file)"
     ],
     "language": "python",
     "metadata": {},
     "outputs": [],
     "prompt_number": 302
    },
    {
     "cell_type": "code",
     "collapsed": false,
     "input": [
      "co_curve_numbers = clustering.get_co_curve_numbers(curve1, curve2)"
     ],
     "language": "python",
     "metadata": {},
     "outputs": [],
     "prompt_number": 304
    },
    {
     "cell_type": "code",
     "collapsed": false,
     "input": [
      "# Z = linkage matrix\n",
      "Z = clustering.hierarchical(co_report_file)"
     ],
     "language": "python",
     "metadata": {},
     "outputs": [],
     "prompt_number": 226
    },
    {
     "cell_type": "code",
     "collapsed": false,
     "input": [
      "hier.dendrogram(Z);"
     ],
     "language": "python",
     "metadata": {},
     "outputs": [
      {
       "output_type": "display_data",
       "png": "[encoded data removed]",
       "text": [
        "<matplotlib.figure.Figure at 0x10ac84f50>"
       ]
      }
     ],
     "prompt_number": 227
    },
    {
     "cell_type": "code",
     "collapsed": false,
     "input": [
      "root, node_list = clustering.hierarchical_tree(Z)\n",
      "flat = clustering.flat_cluster(Z, 0.6)"
     ],
     "language": "python",
     "metadata": {},
     "outputs": [],
     "prompt_number": 312
    },
    {
     "cell_type": "code",
     "collapsed": false,
     "input": [
      "L, M = clustering.flat_cluster_roots(Z, 0.6)"
     ],
     "language": "python",
     "metadata": {},
     "outputs": [],
     "prompt_number": 246
    },
    {
     "cell_type": "code",
     "collapsed": false,
     "input": [
      "clustering.flat_clusters_by_size(flat)"
     ],
     "language": "python",
     "metadata": {},
     "outputs": [
      {
       "output_type": "pyout",
       "prompt_number": 280,
       "text": [
        "([1, 2, 3, 4, 5], [3, 2, 1, 3, 6])"
       ]
      }
     ],
     "prompt_number": 280
    },
    {
     "cell_type": "code",
     "collapsed": false,
     "input": [
      "clustering.flat_ordered_by_size(flat)"
     ],
     "language": "python",
     "metadata": {},
     "outputs": [
      {
       "output_type": "pyout",
       "prompt_number": 282,
       "text": [
        "(array([5, 4, 1, 2, 3]), array([6, 3, 3, 2, 1]))"
       ]
      }
     ],
     "prompt_number": 282
    },
    {
     "cell_type": "code",
     "collapsed": false,
     "input": [
      "clustering.print_sizes(flat, 3)"
     ],
     "language": "python",
     "metadata": {},
     "outputs": [
      {
       "output_type": "stream",
       "stream": "stdout",
       "text": [
        "id\tsize\n",
        "5\t6\n",
        "4\t3\n",
        "1\t3\n"
       ]
      }
     ],
     "prompt_number": 289
    },
    {
     "cell_type": "code",
     "collapsed": false,
     "input": [
      "print clustering.cluster_ids(flat)"
     ],
     "language": "python",
     "metadata": {},
     "outputs": [
      {
       "output_type": "stream",
       "stream": "stdout",
       "text": [
        "[1, 2, 3, 4, 5]\n"
       ]
      }
     ],
     "prompt_number": 292
    },
    {
     "cell_type": "code",
     "collapsed": false,
     "input": [
      "curve_ids = clustering.curves_in_cluster(flat, 4)"
     ],
     "language": "python",
     "metadata": {},
     "outputs": [],
     "prompt_number": 308
    },
    {
     "cell_type": "code",
     "collapsed": false,
     "input": [
      "rdf_files = clustering.leaf_files(parameter_folder, file_type='RDF')"
     ],
     "language": "python",
     "metadata": {},
     "outputs": [],
     "prompt_number": 309
    },
    {
     "cell_type": "code",
     "collapsed": false,
     "input": [
      "print rdf_files"
     ],
     "language": "python",
     "metadata": {},
     "outputs": [
      {
       "output_type": "stream",
       "stream": "stdout",
       "text": [
        "['../Data/aLa_flat_medium/RDF_text/ala.3hz.flat.019.txt', '../Data/aLa_flat_medium/RDF_text/ala.3hz.flat.256.txt', '../Data/aLa_flat_medium/RDF_text/ala.3hz.flat.a030.txt', '../Data/aLa_flat_medium/RDF_text/ala.3hz.flat.a693.txt', '../Data/aLa_flat_medium/RDF_text/ala.3hz.flat.b230.txt', '../Data/aLa_flat_medium/RDF_text/ala.3hz.flat.b239.txt', '../Data/aLa_flat_medium/RDF_text/ala.3hz.flat.b577.txt', '../Data/aLa_flat_medium/RDF_text/ala.3hz.flat.b836.txt', '../Data/aLa_flat_medium/RDF_text/ala.3hz.flat.b926.txt', '../Data/aLa_flat_medium/RDF_text/ala.3hz.flat.b933.txt', '../Data/aLa_flat_medium/RDF_text/ala.3hz.flat.b940.txt', '../Data/aLa_flat_medium/RDF_text/ala.3hz.flat.c331.txt', '../Data/aLa_flat_medium/RDF_text/ala.3hz.flat.c339.txt', '../Data/aLa_flat_medium/RDF_text/ala.3hz.flat.c766.txt', '../Data/aLa_flat_medium/RDF_text/ala.3hz.flat.c816.txt']\n"
       ]
      }
     ],
     "prompt_number": 310
    },
    {
     "cell_type": "code",
     "collapsed": false,
     "input": [
      "ids, cluster_curves = clustering.curves_in_clusters(flat)"
     ],
     "language": "python",
     "metadata": {},
     "outputs": [],
     "prompt_number": 297
    },
    {
     "cell_type": "code",
     "collapsed": false,
     "input": [
      "i = 0\n",
      "while i < len(ids):\n",
      "    print ids[i], cluster_curves[i]\n",
      "    i = i+1"
     ],
     "language": "python",
     "metadata": {},
     "outputs": [
      {
       "output_type": "stream",
       "stream": "stdout",
       "text": [
        "1 [5, 11, 12]\n",
        "2 [0, 7]\n",
        "3 [3]\n",
        "4 [6, 8, 13]\n",
        "5 [1, 2, 4, 9, 10, 14]\n"
       ]
      }
     ],
     "prompt_number": 298
    },
    {
     "cell_type": "code",
     "collapsed": false,
     "input": [
      "clustering._map_pair_index(flat,0,7)"
     ],
     "language": "python",
     "metadata": {},
     "outputs": [
      {
       "output_type": "pyout",
       "prompt_number": 301,
       "text": [
        "6"
       ]
      }
     ],
     "prompt_number": 301
    },
    {
     "cell_type": "code",
     "collapsed": false,
     "input": [
      "print curve1[6], curve2[6]"
     ],
     "language": "python",
     "metadata": {},
     "outputs": [
      {
       "output_type": "stream",
       "stream": "stdout",
       "text": [
        "019 b836\n"
       ]
      }
     ],
     "prompt_number": 303
    },
    {
     "cell_type": "code",
     "collapsed": false,
     "input": [
      "i = 0\n",
      "while i < len(co_curve_numbers):\n",
      "    print i, co_curve_numbers[i]\n",
      "    i = i+1"
     ],
     "language": "python",
     "metadata": {},
     "outputs": [
      {
       "output_type": "stream",
       "stream": "stdout",
       "text": [
        "0 019\n",
        "1 256\n",
        "2 a030\n",
        "3 a693\n",
        "4 b230\n",
        "5 b239\n",
        "6 b577\n",
        "7 b836\n",
        "8 b926\n",
        "9 b933\n",
        "10 b940\n",
        "11 c331\n",
        "12 c339\n",
        "13 c766\n",
        "14 c816\n"
       ]
      }
     ],
     "prompt_number": 306
    },
    {
     "cell_type": "code",
     "collapsed": false,
     "input": [
      "print clustering.map_cluster_to_files(parameter_folder, flat, 1, file_type='RDF')"
     ],
     "language": "python",
     "metadata": {},
     "outputs": [
      {
       "output_type": "stream",
       "stream": "stdout",
       "text": [
        "[5, 11, 12]\n",
        "['../Data/aLa_flat_medium/RDF_text/ala.3hz.flat.b239.txt', '../Data/aLa_flat_medium/RDF_text/ala.3hz.flat.c331.txt', '../Data/aLa_flat_medium/RDF_text/ala.3hz.flat.c339.txt']\n"
       ]
      }
     ],
     "prompt_number": 316
    },
    {
     "cell_type": "code",
     "collapsed": false,
     "input": [
      "lc_density_list = clustering.cluster_density_curves(parameter_folder, flat, 4)"
     ],
     "language": "python",
     "metadata": {},
     "outputs": [],
     "prompt_number": 320
    },
    {
     "cell_type": "code",
     "collapsed": false,
     "input": [
      "for lc_density in lc_density_list:\n",
      "    plot(lc_density[0], lc_density[1])\n",
      "xlim(0,100)"
     ],
     "language": "python",
     "metadata": {},
     "outputs": [
      {
       "output_type": "pyout",
       "prompt_number": 322,
       "text": [
        "(0, 100)"
       ]
      },
      {
       "output_type": "display_data",
       "png": "[encoded data removed]",
       "text": [
        "<matplotlib.figure.Figure at 0x10b80ab10>"
       ]
      }
     ],
     "prompt_number": 322
    },
    {
     "cell_type": "code",
     "collapsed": false,
     "input": [
      "print clustering.cluster_shift_values(flat, 4, shift)"
     ],
     "language": "python",
     "metadata": {},
     "outputs": [
      {
       "ename": "TypeError",
       "evalue": "get_co_curve_numbers() takes exactly 2 arguments (1 given)",
       "output_type": "pyerr",
       "traceback": [
        "\u001b[0;31m---------------------------------------------------------------------------\u001b[0m\n\u001b[0;31mTypeError\u001b[0m                                 Traceback (most recent call last)",
        "\u001b[0;32m<ipython-input-324-06d573c92454>\u001b[0m in \u001b[0;36m<module>\u001b[0;34m()\u001b[0m\n\u001b[0;32m----> 1\u001b[0;31m \u001b[0;32mprint\u001b[0m \u001b[0mclustering\u001b[0m\u001b[0;34m.\u001b[0m\u001b[0mcluster_shift_values\u001b[0m\u001b[0;34m(\u001b[0m\u001b[0mflat\u001b[0m\u001b[0;34m,\u001b[0m \u001b[0;36m4\u001b[0m\u001b[0;34m,\u001b[0m \u001b[0mshift\u001b[0m\u001b[0;34m)\u001b[0m\u001b[0;34m\u001b[0m\u001b[0m\n\u001b[0m",
        "\u001b[0;32m/Users/home/Dropbox/Research/Guelph Research/SMFS_data_analysis/Code/Cluster/clustering.py\u001b[0m in \u001b[0;36mcluster_shift_values\u001b[0;34m(flat_cluster, id, shift_array)\u001b[0m\n\u001b[1;32m    208\u001b[0m \u001b[0;34m\u001b[0m\u001b[0m\n\u001b[1;32m    209\u001b[0m \u001b[0;32mdef\u001b[0m \u001b[0mcluster_shift_values\u001b[0m\u001b[0;34m(\u001b[0m\u001b[0mflat_cluster\u001b[0m\u001b[0;34m,\u001b[0m \u001b[0mid\u001b[0m\u001b[0;34m,\u001b[0m \u001b[0mshift_array\u001b[0m\u001b[0;34m)\u001b[0m\u001b[0;34m:\u001b[0m\u001b[0;34m\u001b[0m\u001b[0m\n\u001b[0;32m--> 210\u001b[0;31m     \u001b[0mshift_list\u001b[0m \u001b[0;34m=\u001b[0m \u001b[0mcluster_pair_report\u001b[0m\u001b[0;34m(\u001b[0m\u001b[0mid\u001b[0m\u001b[0;34m,\u001b[0m \u001b[0mflat_cluster\u001b[0m\u001b[0;34m,\u001b[0m \u001b[0mshift_array\u001b[0m\u001b[0;34m)\u001b[0m\u001b[0;34m\u001b[0m\u001b[0m\n\u001b[0m\u001b[1;32m    211\u001b[0m     \u001b[0;32mreturn\u001b[0m \u001b[0mshift_list\u001b[0m\u001b[0;34m[\u001b[0m\u001b[0;36m0\u001b[0m\u001b[0;34m:\u001b[0m\u001b[0mlen\u001b[0m\u001b[0;34m(\u001b[0m\u001b[0mflat_cluster\u001b[0m\u001b[0;34m)\u001b[0m\u001b[0;34m]\u001b[0m\u001b[0;34m\u001b[0m\u001b[0m\n\u001b[1;32m    212\u001b[0m \u001b[0;34m\u001b[0m\u001b[0m\n",
        "\u001b[0;32m/Users/home/Dropbox/Research/Guelph Research/SMFS_data_analysis/Code/Cluster/clustering.py\u001b[0m in \u001b[0;36mcluster_pair_report\u001b[0;34m(cluster_number, flat_cluster, rep_list)\u001b[0m\n\u001b[1;32m    189\u001b[0m     \u001b[0mcluster_curve_indexes\u001b[0m \u001b[0;34m=\u001b[0m \u001b[0mmap_cluster_to_curves\u001b[0m\u001b[0;34m(\u001b[0m\u001b[0mcluster_number\u001b[0m\u001b[0;34m,\u001b[0m \u001b[0mflat_cluster\u001b[0m\u001b[0;34m)\u001b[0m\u001b[0;34m\u001b[0m\u001b[0m\n\u001b[1;32m    190\u001b[0m     return [map_curve_to_report(index, c1, c2, rep_list) \\\n\u001b[0;32m--> 191\u001b[0;31m     for c1 in cluster_curve_indexes for c2 in cluster_curve_indexes if c2 > c1]\n\u001b[0m\u001b[1;32m    192\u001b[0m \u001b[0;34m\u001b[0m\u001b[0m\n\u001b[1;32m    193\u001b[0m \u001b[0;34m'''Shiting and average behaviour'''\u001b[0m\u001b[0;34m\u001b[0m\u001b[0m\n",
        "\u001b[0;32m/Users/home/Dropbox/Research/Guelph Research/SMFS_data_analysis/Code/Cluster/clustering.py\u001b[0m in \u001b[0;36mmap_curve_to_report\u001b[0;34m(flat_cluster, c1, c2, report_list)\u001b[0m\n\u001b[1;32m    156\u001b[0m     \u001b[0mof\u001b[0m \u001b[0mthe\u001b[0m \u001b[0mlength\u001b[0m \u001b[0mof\u001b[0m \u001b[0mthe\u001b[0m \u001b[0mcoincidence\u001b[0m \u001b[0mreport\u001b[0m \u001b[0;32mand\u001b[0m \u001b[0mreturns\u001b[0m\u001b[0;34m\u001b[0m\u001b[0m\n\u001b[1;32m    157\u001b[0m     the value from that list for that curve pair.'''\n\u001b[0;32m--> 158\u001b[0;31m     \u001b[0mco_curve_indexes\u001b[0m \u001b[0;34m=\u001b[0m \u001b[0mget_co_curve_numbers\u001b[0m\u001b[0;34m(\u001b[0m\u001b[0mflat_cluster\u001b[0m\u001b[0;34m)\u001b[0m\u001b[0;34m\u001b[0m\u001b[0m\n\u001b[0m\u001b[1;32m    159\u001b[0m     \u001b[0;32mreturn\u001b[0m \u001b[0mreport_list\u001b[0m\u001b[0;34m[\u001b[0m\u001b[0m_map_pair_index\u001b[0m\u001b[0;34m(\u001b[0m\u001b[0mco_curve_indexes\u001b[0m\u001b[0;34m,\u001b[0m \u001b[0mc1\u001b[0m\u001b[0;34m,\u001b[0m \u001b[0mc2\u001b[0m\u001b[0;34m)\u001b[0m\u001b[0;34m]\u001b[0m\u001b[0;34m\u001b[0m\u001b[0m\n\u001b[1;32m    160\u001b[0m \u001b[0;34m\u001b[0m\u001b[0m\n",
        "\u001b[0;31mTypeError\u001b[0m: get_co_curve_numbers() takes exactly 2 arguments (1 given)"
       ]
      }
     ],
     "prompt_number": 324
    },
    {
     "cell_type": "code",
     "collapsed": false,
     "input": [],
     "language": "python",
     "metadata": {},
     "outputs": []
    }
   ],
   "metadata": {}
  }
 ]
}