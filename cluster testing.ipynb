{
 "metadata": {
  "name": "cluster testing"
 },
 "nbformat": 3,
 "nbformat_minor": 0,
 "worksheets": [
  {
   "cells": [
    {
     "cell_type": "code",
     "collapsed": false,
     "input": [
      "%load_ext autoreload"
     ],
     "language": "python",
     "metadata": {},
     "outputs": [],
     "prompt_number": 3
    },
    {
     "cell_type": "code",
     "collapsed": false,
     "input": [
      "%autoreload 2\n",
      "import Cluster.clustering as c\n",
      "import scipy.cluster.hierarchy as hier"
     ],
     "language": "python",
     "metadata": {},
     "outputs": [],
     "prompt_number": 4
    },
    {
     "cell_type": "code",
     "collapsed": false,
     "input": [
      "parameter_folder = \"../Data/aLa_flat_medium//Transform_analysis/Parameters_p0.4_minTss5_minForce45/\"\n",
      "shift = 'No'\n",
      "coincidence_folder = parameter_folder+\"ShiftNo/\""
     ],
     "language": "python",
     "metadata": {},
     "outputs": [],
     "prompt_number": 5
    },
    {
     "cell_type": "code",
     "collapsed": false,
     "input": [
      "coa = c.CoAnalysis(parameter_folder, shift)"
     ],
     "language": "python",
     "metadata": {},
     "outputs": [],
     "prompt_number": 6
    },
    {
     "cell_type": "code",
     "collapsed": false,
     "input": [
      "print len(coa.tss_force_files)"
     ],
     "language": "python",
     "metadata": {},
     "outputs": [
      {
       "output_type": "stream",
       "stream": "stdout",
       "text": [
        "15\n"
       ]
      }
     ],
     "prompt_number": 7
    },
    {
     "cell_type": "code",
     "collapsed": false,
     "input": [
      "figsize(5,3)\n",
      "coa.plot_dendrogram();\n",
      "savefig(\"../Figures_May/ala_flat_all_dendro.pdf\", bbox_inches='tight')"
     ],
     "language": "python",
     "metadata": {},
     "outputs": [
      {
       "output_type": "display_data",
       "png": "[encoded data removed]",
       "text": [
        "<matplotlib.figure.Figure at 0x10a603c50>"
       ]
      }
     ],
     "prompt_number": 8
    },
    {
     "cell_type": "code",
     "collapsed": false,
     "input": [
      "F = c.FlatClusters(coa, co_cut=0.4)"
     ],
     "language": "python",
     "metadata": {},
     "outputs": [],
     "prompt_number": 13
    },
    {
     "cell_type": "code",
     "collapsed": false,
     "input": [
      "print F\n",
      "F.print_clusters_by_size(1)"
     ],
     "language": "python",
     "metadata": {},
     "outputs": [
      {
       "output_type": "stream",
       "stream": "stdout",
       "text": [
        "../Data/aLa_flat_medium//Transform_analysis/Parameters_p0.4_minTss5_minForce45/\n",
        "Flatted cluster at minimum coincidence 0.4\n",
        "3 clusters of 15 curves\n",
        "\n",
        "Cluster\tSize\n",
        "3\t9\n",
        "2\t3\n",
        "1\t3\n"
       ]
      }
     ],
     "prompt_number": 14
    },
    {
     "cell_type": "code",
     "collapsed": false,
     "input": [
      "cl = c.Cluster(F, 3)"
     ],
     "language": "python",
     "metadata": {},
     "outputs": [],
     "prompt_number": 15
    },
    {
     "cell_type": "code",
     "collapsed": false,
     "input": [
      "Lc_density_list = cl.get_Lc_density_arrays()"
     ],
     "language": "python",
     "metadata": {},
     "outputs": [],
     "prompt_number": 16
    },
    {
     "cell_type": "code",
     "collapsed": false,
     "input": [
      "sub = c.SubCluster(F, cl)"
     ],
     "language": "python",
     "metadata": {},
     "outputs": [],
     "prompt_number": 17
    },
    {
     "cell_type": "code",
     "collapsed": false,
     "input": [
      "sub.list_curve_indexes('l')\n",
      "print sub.list_curve_shifts('l')\n",
      "sub.list_initial_shifts('l')"
     ],
     "language": "python",
     "metadata": {},
     "outputs": [
      {
       "output_type": "stream",
       "stream": "stdout",
       "text": [
        "[8, 6, 13]\n",
        "('b926', 'b577')\n",
        "('b926', 'c766')\n",
        "('b577', 'c766')\n",
        "[2.3, -11.0, -8.8]\n",
        "[8, 6, 13]\n",
        "('b926', 'b577')\n",
        "('b926', 'c766')\n",
        "('b577', 'c766')\n"
       ]
      },
      {
       "output_type": "pyout",
       "prompt_number": 28,
       "text": [
        "[0, 2.3, -11.0]"
       ]
      }
     ],
     "prompt_number": 28
    },
    {
     "cell_type": "code",
     "collapsed": false,
     "input": [
      "print sub.subcluster_properties('initial_shifts')"
     ],
     "language": "python",
     "metadata": {},
     "outputs": [
      {
       "output_type": "stream",
       "stream": "stdout",
       "text": [
        "([0, 2.3, -11.0], [0, -5.8, -16.0, -9.8, -7.8, -0.8])\n"
       ]
      }
     ],
     "prompt_number": 23
    },
    {
     "cell_type": "code",
     "collapsed": false,
     "input": [
      "sub.plot_subcluster('left');"
     ],
     "language": "python",
     "metadata": {},
     "outputs": [
      {
       "output_type": "stream",
       "stream": "stdout",
       "text": [
        "[8, 6, 13]\n",
        "('b926', 'b577')\n",
        "('b926', 'c766')\n",
        "('b577', 'c766')\n"
       ]
      },
      {
       "output_type": "display_data",
       "png": "[encoded data removed]",
       "text": [
        "<matplotlib.figure.Figure at 0x10a593ad0>"
       ]
      }
     ],
     "prompt_number": 31
    },
    {
     "cell_type": "code",
     "collapsed": false,
     "input": [],
     "language": "python",
     "metadata": {},
     "outputs": []
    }
   ],
   "metadata": {}
  }
 ]
}