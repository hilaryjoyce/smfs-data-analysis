{
 "metadata": {
  "name": "cluster testing"
 },
 "nbformat": 3,
 "nbformat_minor": 0,
 "worksheets": [
  {
   "cells": [
    {
     "cell_type": "code",
     "collapsed": false,
     "input": [
      "%load_ext autoreload"
     ],
     "language": "python",
     "metadata": {},
     "outputs": [],
     "prompt_number": 1
    },
    {
     "cell_type": "code",
     "collapsed": false,
     "input": [
      "%autoreload 2\n",
      "import Cluster.clustering as c\n",
      "import scipy.cluster.hierarchy as hier"
     ],
     "language": "python",
     "metadata": {},
     "outputs": [],
     "prompt_number": 4
    },
    {
     "cell_type": "code",
     "collapsed": false,
     "input": [
      "parameter_folder = \"../Data/aLa_flat_medium/Transform_analysis/Parameters_p0.4_minTss5_minForce45/\"\n",
      "shift = 'No'\n",
      "coincidence_folder = parameter_folder+\"NoShift/\""
     ],
     "language": "python",
     "metadata": {},
     "outputs": [],
     "prompt_number": 5
    },
    {
     "cell_type": "code",
     "collapsed": false,
     "input": [
      "coa = c.CoAnalysis(parameter_folder, shift)"
     ],
     "language": "python",
     "metadata": {},
     "outputs": [],
     "prompt_number": 51
    },
    {
     "cell_type": "code",
     "collapsed": false,
     "input": [
      "print coa.list_curve_names()\n",
      "print coa.list_curve_indexes()"
     ],
     "language": "python",
     "metadata": {},
     "outputs": [
      {
       "output_type": "stream",
       "stream": "stdout",
       "text": [
        "['019', '256', 'a030', 'a693', 'b230', 'b239', 'b577', 'b836', 'b926', 'b933', 'b940', 'c331', 'c339', 'c766', 'c816']\n",
        "[0, 1, 2, 3, 4, 5, 6, 7, 8, 9, 10, 11, 12, 13, 14]"
       ]
      },
      {
       "output_type": "stream",
       "stream": "stdout",
       "text": [
        "\n"
       ]
      }
     ],
     "prompt_number": 52
    },
    {
     "cell_type": "code",
     "collapsed": false,
     "input": [
      "print coa"
     ],
     "language": "python",
     "metadata": {},
     "outputs": [
      {
       "output_type": "stream",
       "stream": "stdout",
       "text": [
        "../Data/aLa_flat_medium/Transform_analysis/Parameters_p0.4_minTss5_minForce45/\n",
        "Hierarchical clustering at max_shift = No\n",
        "Number of curves = 15\n",
        "\n"
       ]
      }
     ],
     "prompt_number": 41
    },
    {
     "cell_type": "code",
     "collapsed": false,
     "input": [
      "print coa.map_pair_to_indexes(4, 8)\n",
      "print coa.map_pair_to_indexes(8,4)"
     ],
     "language": "python",
     "metadata": {},
     "outputs": [
      {
       "output_type": "stream",
       "stream": "stdout",
       "text": [
        "('b230', 'b926')\n",
        "('b926', 'b230')\n"
       ]
      }
     ],
     "prompt_number": 55
    },
    {
     "cell_type": "code",
     "collapsed": false,
     "input": [
      "Z = coa.hierarchical_cluster()"
     ],
     "language": "python",
     "metadata": {},
     "outputs": [],
     "prompt_number": 23
    },
    {
     "cell_type": "code",
     "collapsed": false,
     "input": [
      "coa.plot_dendrogram();"
     ],
     "language": "python",
     "metadata": {},
     "outputs": [
      {
       "output_type": "display_data",
       "png": "[encoded data removed]",
       "text": [
        "<matplotlib.figure.Figure at 0x10a2e64d0>"
       ]
      }
     ],
     "prompt_number": 24
    },
    {
     "cell_type": "code",
     "collapsed": false,
     "input": [
      "F = c.FlatClusters(parameter_folder=parameter_folder, max_shift='No', co_cut=0.6)\n",
      "c5 = c.Cluster(F, 5)"
     ],
     "language": "python",
     "metadata": {},
     "outputs": [],
     "prompt_number": 105
    },
    {
     "cell_type": "code",
     "collapsed": false,
     "input": [
      "print c5"
     ],
     "language": "python",
     "metadata": {},
     "outputs": [
      {
       "output_type": "stream",
       "stream": "stdout",
       "text": [
        "../Data/aLa_flat_medium/Transform_analysis/Parameters_p0.4_minTss5_minForce45/\n",
        "Flatted cluster at minimum coincidence 0.6\n",
        "Cluster 5 with 6 curves.\n"
       ]
      }
     ],
     "prompt_number": 106
    },
    {
     "cell_type": "code",
     "collapsed": false,
     "input": [
      "Lc_density_list = c5.get_Lc_density_arrays()\n",
      "curve_list = c5.list_curve_indexes()"
     ],
     "language": "python",
     "metadata": {},
     "outputs": [],
     "prompt_number": 107
    },
    {
     "cell_type": "code",
     "collapsed": false,
     "input": [
      "len(curve_list)"
     ],
     "language": "python",
     "metadata": {},
     "outputs": [
      {
       "output_type": "pyout",
       "prompt_number": 108,
       "text": [
        "6"
       ]
      }
     ],
     "prompt_number": 108
    },
    {
     "cell_type": "code",
     "collapsed": false,
     "input": [
      "for Lc_density in Lc_density_list:\n",
      "    plot(Lc_density[0], Lc_density[1], 'k-')\n",
      "xlim(0,60)"
     ],
     "language": "python",
     "metadata": {},
     "outputs": [
      {
       "output_type": "pyout",
       "prompt_number": 91,
       "text": [
        "(0, 60)"
       ]
      },
      {
       "output_type": "display_data",
       "png": "[encoded data removed]",
       "text": [
        "<matplotlib.figure.Figure at 0x10aceb350>"
       ]
      }
     ],
     "prompt_number": 91
    },
    {
     "cell_type": "code",
     "collapsed": false,
     "input": [
      "print average(short_shifts)\n",
      "print average(shift_list)"
     ],
     "language": "python",
     "metadata": {},
     "outputs": [
      {
       "output_type": "stream",
       "stream": "stdout",
       "text": [
        "-6.7\n",
        "-4.17333333333\n"
       ]
      }
     ],
     "prompt_number": 119
    },
    {
     "cell_type": "code",
     "collapsed": false,
     "input": [
      "shift_list = c5.list_cluster_shift()\n",
      "short_shifts = [0]+shift_list[0:5]\n",
      "curve_names = c5.list_curve_names()"
     ],
     "language": "python",
     "metadata": {},
     "outputs": [],
     "prompt_number": 116
    },
    {
     "cell_type": "code",
     "collapsed": false,
     "input": [
      "i = 0\n",
      "for Lc_density in Lc_density_list:\n",
      "    plot(Lc_density[0]+short_shifts[i]-average(short_shifts), Lc_density[1], 'k-')\n",
      "    i = i+1\n",
      "xlim(0,60)"
     ],
     "language": "python",
     "metadata": {},
     "outputs": [
      {
       "output_type": "pyout",
       "prompt_number": 121,
       "text": [
        "(0, 60)"
       ]
      },
      {
       "output_type": "display_data",
       "png": "[encoded data removed]",
       "text": [
        "<matplotlib.figure.Figure at 0x10b663c10>"
       ]
      }
     ],
     "prompt_number": 121
    },
    {
     "cell_type": "code",
     "collapsed": false,
     "input": [
      "print F.ordered_clusters()"
     ],
     "language": "python",
     "metadata": {},
     "outputs": [
      {
       "output_type": "stream",
       "stream": "stdout",
       "text": [
        "(array([3, 2, 1]), array([9, 3, 3]))\n"
       ]
      }
     ],
     "prompt_number": 26
    },
    {
     "cell_type": "code",
     "collapsed": false,
     "input": [
      "print F.get_shift_array()"
     ],
     "language": "python",
     "metadata": {},
     "outputs": [
      {
       "output_type": "stream",
       "stream": "stdout",
       "text": [
        "[ 32.3  26.5   3.   24.    0.    2.8  -4.    2.3  25.3  16.3   0.    0.\n",
        "  -8.8  22.3  -5.8 -64.8  -7.8   0.   -6.8 -15.8  -5.8  -0.8 -16.    0.\n",
        "   0.  -15.8  -9.8 -59.   -2.3   0.   -1.3 -10.    0.    5.3 -10.3   0.\n",
        "   0.  -10.   -4.3  56.8   0.   -1.   -9.    0.8  22.5  49.    0.    0.\n",
        "  -9.8  55.    0.    1.   -8.    3.    7.8  -8.3   0.    0.   -7.8  -2.\n",
        "   0.    0.    0.    0.    0.    0.    0.    0.    0.   -8.8   2.3   5.8\n",
        "  -9.    0.    0.   -8.8  -2.8  -3.5   6.5  -0.5   0.    0.    0.    5.3\n",
        "   2.3  -9.5   0.    0.  -11.   -3.5 -10.3   0.    0.  -14.8  -4.    0.\n",
        "   0.    0.3   6.    0.    0.    0.    0.    0.    6. ]\n"
       ]
      }
     ],
     "prompt_number": 27
    },
    {
     "cell_type": "code",
     "collapsed": false,
     "input": [
      "print F"
     ],
     "language": "python",
     "metadata": {},
     "outputs": [
      {
       "output_type": "stream",
       "stream": "stdout",
       "text": [
        "../Data/aLa_flat_medium/Transform_analysis/Parameters_p0.4_minTss5_minForce45/\n",
        "Flatted cluster at minimum coincidence 0.4\n",
        "3 clusters of 15 curves\n",
        "\n"
       ]
      }
     ],
     "prompt_number": 28
    },
    {
     "cell_type": "code",
     "collapsed": false,
     "input": [
      "print F.ordered_clusters()"
     ],
     "language": "python",
     "metadata": {},
     "outputs": [
      {
       "output_type": "stream",
       "stream": "stdout",
       "text": [
        "(array([5, 4, 1, 2, 3]), array([6, 3, 3, 2, 1]))\n"
       ]
      }
     ],
     "prompt_number": 84
    },
    {
     "cell_type": "code",
     "collapsed": false,
     "input": [
      "c3 = c.Cluster(F, 3)"
     ],
     "language": "python",
     "metadata": {},
     "outputs": [],
     "prompt_number": 60
    },
    {
     "cell_type": "code",
     "collapsed": false,
     "input": [
      "cindex= c3.list_curve_indexes()\n",
      "cnames= c3.list_curve_names()\n",
      "i = 0\n",
      "while i < len(cindex):\n",
      "    print cindex[i], cnames[i]\n",
      "    i = i+1"
     ],
     "language": "python",
     "metadata": {},
     "outputs": [
      {
       "output_type": "stream",
       "stream": "stdout",
       "text": [
        "1 256\n",
        "2 a030\n",
        "4 b230\n",
        "6 b577\n",
        "8 b926\n",
        "9 b933\n",
        "10 b940\n",
        "13 c766\n",
        "14 c816\n"
       ]
      }
     ],
     "prompt_number": 45
    },
    {
     "cell_type": "code",
     "collapsed": false,
     "input": [
      "def map_pair_to_report(coa, c1, c2, mode):\n",
      "    ''' Takes two curves (by index 0:N) and returns the corresponding\n",
      "        index in the pair report specified by mode ('co', 'shift', 'curve1', 'curve2')\n",
      "    '''\n",
      "    curve_indexes = coa.list_curve_indexes()\n",
      "    if c1 > c2:\n",
      "        c2, c1 = c1, c2\n",
      "    pair_index = sum(curve_indexes[::-1][0:c1]) + c2 - c1 - 1\n",
      "    if mode == 'curve1':\n",
      "        return coa.get_curve1_array()[pair_index]\n",
      "    if mode == 'curve2':\n",
      "        return coa.get_curve2_array()[pair_index]\n",
      "    if mode == 'co':\n",
      "        return coa.get_coincidence_array()[pair_index]\n",
      "    if mode == 'shift':\n",
      "        return coa.get_shift_array()[pair_index]\n",
      "    else:\n",
      "        print 'Invalid mode, try {co, shift, curve1, curve2}'\n",
      "        return None"
     ],
     "language": "python",
     "metadata": {},
     "outputs": [],
     "prompt_number": 43
    },
    {
     "cell_type": "code",
     "collapsed": false,
     "input": [
      "print map_pair_to_report(coa, mode='curve1', c1=4, c2=8)\n",
      "print map_pair_to_report(coa, mode='curve2', c1=4, c2=8)\n",
      "print map_pair_to_report(coa, 4, 8, mode='shift')\n",
      "print map_pair_to_report(coa, 8, 4, mode='shift')\n",
      "print map_pair_to_report(coa, 8,4, mode='co')"
     ],
     "language": "python",
     "metadata": {},
     "outputs": [
      {
       "output_type": "stream",
       "stream": "stdout",
       "text": [
        "b230\n",
        "b926\n",
        "3.0"
       ]
      },
      {
       "output_type": "stream",
       "stream": "stdout",
       "text": [
        "\n",
        "3.0\n",
        "0.605"
       ]
      },
      {
       "output_type": "stream",
       "stream": "stdout",
       "text": [
        "\n"
       ]
      }
     ],
     "prompt_number": 49
    },
    {
     "cell_type": "code",
     "collapsed": false,
     "input": [],
     "language": "python",
     "metadata": {},
     "outputs": []
    }
   ],
   "metadata": {}
  }
 ]
}