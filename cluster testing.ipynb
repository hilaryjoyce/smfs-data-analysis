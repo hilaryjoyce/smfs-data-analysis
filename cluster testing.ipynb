{
 "metadata": {
  "name": "cluster testing"
 },
 "nbformat": 3,
 "nbformat_minor": 0,
 "worksheets": [
  {
   "cells": [
    {
     "cell_type": "code",
     "collapsed": false,
     "input": [
      "%load_ext autoreload"
     ],
     "language": "python",
     "metadata": {},
     "outputs": [],
     "prompt_number": 1
    },
    {
     "cell_type": "code",
     "collapsed": false,
     "input": [
      "%autoreload 2\n",
      "import Cluster.clustering as hier\n",
      "import scipy.cluster.hierarchy as cluster"
     ],
     "language": "python",
     "metadata": {},
     "outputs": [],
     "prompt_number": 9
    },
    {
     "cell_type": "code",
     "collapsed": false,
     "input": [
      "co_report_file = \"../Data/aLa_flat_tiny/Transform_analysis/Parameters_p0.4_minTss5_minForce45/NoShift/coincidence_report.txt\""
     ],
     "language": "python",
     "metadata": {},
     "outputs": [],
     "prompt_number": 5
    },
    {
     "cell_type": "code",
     "collapsed": false,
     "input": [
      "clustering = hier.hierarchical(co_report_file)"
     ],
     "language": "python",
     "metadata": {},
     "outputs": [],
     "prompt_number": 7
    },
    {
     "cell_type": "code",
     "collapsed": false,
     "input": [
      "print clustering;"
     ],
     "language": "python",
     "metadata": {},
     "outputs": [
      {
       "output_type": "stream",
       "stream": "stdout",
       "text": [
        "[[  0.00000000e+00   1.00000000e+00   6.00000000e-03   2.00000000e+00]\n",
        " [  3.00000000e+00   4.00000000e+00   3.50000000e-02   2.00000000e+00]\n",
        " [  5.00000000e+00   6.00000000e+00   5.21000000e-01   4.00000000e+00]\n",
        " [  2.00000000e+00   7.00000000e+00   7.70000000e-01   5.00000000e+00]]\n"
       ]
      }
     ],
     "prompt_number": 11
    },
    {
     "cell_type": "code",
     "collapsed": false,
     "input": [
      "cluster.dendrogram(clustering);"
     ],
     "language": "python",
     "metadata": {},
     "outputs": [
      {
       "output_type": "display_data",
       "png": "[encoded data removed]",
       "text": [
        "<matplotlib.figure.Figure at 0x10acd74d0>"
       ]
      }
     ],
     "prompt_number": 12
    },
    {
     "cell_type": "code",
     "collapsed": false,
     "input": [
      "tree = cluster.to_tree(clustering)"
     ],
     "language": "python",
     "metadata": {},
     "outputs": [],
     "prompt_number": 13
    },
    {
     "cell_type": "code",
     "collapsed": false,
     "input": [
      "print tree.get_id()\n",
      "print tree.get_count()\n",
      "print tree.is_leaf()\n",
      "print tree.pre_order()\n",
      "in_tree = tree.right\n",
      "print 1-tree.dist\n"
     ],
     "language": "python",
     "metadata": {},
     "outputs": [
      {
       "output_type": "stream",
       "stream": "stdout",
       "text": [
        "8\n",
        "5\n",
        "False"
       ]
      },
      {
       "output_type": "stream",
       "stream": "stdout",
       "text": [
        "\n",
        "[2, 0, 1, 3, 4]\n",
        "0.23"
       ]
      },
      {
       "output_type": "stream",
       "stream": "stdout",
       "text": [
        "\n"
       ]
      }
     ],
     "prompt_number": 39
    },
    {
     "cell_type": "code",
     "collapsed": false,
     "input": [
      "def sliced_nodes(tree, max_d, func=(lambda x: x.id)):\n",
      "        \"\"\"\n",
      "        Performs pre-order traversal without recursive function calls.\n",
      "\n",
      "        When a leaf node is first encountered, ``func`` is called with\n",
      "        the leaf node as its argument, and its result is appended to\n",
      "        the list.\n",
      "\n",
      "        For example, the statement::\n",
      "\n",
      "           ids = root.pre_order(lambda x: x.id)\n",
      "\n",
      "        returns a list of the node ids corresponding to the leaf nodes\n",
      "        of the tree as they appear from left to right.\n",
      "\n",
      "        Parameters\n",
      "        ----------\n",
      "        func : function\n",
      "            Applied to each leaf ClusterNode object in the pre-order traversal.\n",
      "            Given the i'th leaf node in the pre-ordeR traversal ``n[i]``, the\n",
      "            result of func(n[i]) is stored in L[i]. If not provided, the index\n",
      "            of the original observation to which the node corresponds is used.\n",
      "\n",
      "        Returns\n",
      "        -------\n",
      "        L : list\n",
      "            The pre-order traversal.\n",
      "\n",
      "        \"\"\"\n",
      "\n",
      "        # Do a preorder traversal, caching the result. To avoid having to do\n",
      "        # recursion, we'll store the previous index we've visited in a vector.\n",
      "        n = tree.count\n",
      "\n",
      "        curNode = [None] * (2 * n)\n",
      "        lvisited = np.zeros((2 * n,), dtype=bool)\n",
      "        rvisited = np.zeros((2 * n,), dtype=bool)\n",
      "        curNode[0] = tree\n",
      "        k = 0\n",
      "        preorder = []\n",
      "        tree_list = []\n",
      "        while k >= 0:\n",
      "            nd = curNode[k]\n",
      "            ndid = nd.id\n",
      "            if nd.dist <= max_d:\n",
      "                preorder.append(func(nd))\n",
      "                tree_list.append(nd)\n",
      "                k = k - 1\n",
      "            else:\n",
      "                if not lvisited[ndid]:\n",
      "                    curNode[k + 1] = nd.left\n",
      "                    lvisited[ndid] = True\n",
      "                    k = k + 1\n",
      "                elif not rvisited[ndid]:\n",
      "                    curNode[k + 1] = nd.right\n",
      "                    rvisited[ndid] = True\n",
      "                    k = k + 1\n",
      "                # If we've visited the left and right of this non-leaf\n",
      "                # node already, go up in the tree.\n",
      "                else:\n",
      "                    k = k - 1\n",
      "\n",
      "        return preorder, tree_list"
     ],
     "language": "python",
     "metadata": {},
     "outputs": [],
     "prompt_number": 76
    },
    {
     "cell_type": "code",
     "collapsed": false,
     "input": [
      "node_ids, tree_list =  sliced_nodes(tree, max_d = 0.5)"
     ],
     "language": "python",
     "metadata": {},
     "outputs": [],
     "prompt_number": 97
    },
    {
     "cell_type": "code",
     "collapsed": false,
     "input": [
      "print node_ids"
     ],
     "language": "python",
     "metadata": {},
     "outputs": [
      {
       "output_type": "stream",
       "stream": "stdout",
       "text": [
        "[2, 5, 6]\n"
       ]
      }
     ],
     "prompt_number": 98
    },
    {
     "cell_type": "code",
     "collapsed": false,
     "input": [
      "print tree_list[0].pre_order()\n",
      "tree_guy = tree_list[1]"
     ],
     "language": "python",
     "metadata": {},
     "outputs": [
      {
       "output_type": "stream",
       "stream": "stdout",
       "text": [
        "[2]\n"
       ]
      }
     ],
     "prompt_number": 99
    },
    {
     "cell_type": "code",
     "collapsed": false,
     "input": [
      "print tree_guy.pre_order()"
     ],
     "language": "python",
     "metadata": {},
     "outputs": [
      {
       "ename": "IndexError",
       "evalue": "index out of bounds",
       "output_type": "pyerr",
       "traceback": [
        "\u001b[0;31m---------------------------------------------------------------------------\u001b[0m\n\u001b[0;31mIndexError\u001b[0m                                Traceback (most recent call last)",
        "\u001b[0;32m<ipython-input-100-a2bb5172e553>\u001b[0m in \u001b[0;36m<module>\u001b[0;34m()\u001b[0m\n\u001b[0;32m----> 1\u001b[0;31m \u001b[0;32mprint\u001b[0m \u001b[0mtree_guy\u001b[0m\u001b[0;34m.\u001b[0m\u001b[0mpre_order\u001b[0m\u001b[0;34m(\u001b[0m\u001b[0;34m)\u001b[0m\u001b[0;34m\u001b[0m\u001b[0m\n\u001b[0m",
        "\u001b[0;32m/Users/home/Library/Enthought/Canopy_64bit/System/lib/python2.7/site-packages/scipy/cluster/hierarchy.pyc\u001b[0m in \u001b[0;36mpre_order\u001b[0;34m(self, func)\u001b[0m\n\u001b[1;32m    800\u001b[0m                 \u001b[0mk\u001b[0m \u001b[0;34m=\u001b[0m \u001b[0mk\u001b[0m \u001b[0;34m-\u001b[0m \u001b[0;36m1\u001b[0m\u001b[0;34m\u001b[0m\u001b[0m\n\u001b[1;32m    801\u001b[0m             \u001b[0;32melse\u001b[0m\u001b[0;34m:\u001b[0m\u001b[0;34m\u001b[0m\u001b[0m\n\u001b[0;32m--> 802\u001b[0;31m                 \u001b[0;32mif\u001b[0m \u001b[0;32mnot\u001b[0m \u001b[0mlvisited\u001b[0m\u001b[0;34m[\u001b[0m\u001b[0mndid\u001b[0m\u001b[0;34m]\u001b[0m\u001b[0;34m:\u001b[0m\u001b[0;34m\u001b[0m\u001b[0m\n\u001b[0m\u001b[1;32m    803\u001b[0m                     \u001b[0mcurNode\u001b[0m\u001b[0;34m[\u001b[0m\u001b[0mk\u001b[0m \u001b[0;34m+\u001b[0m \u001b[0;36m1\u001b[0m\u001b[0;34m]\u001b[0m \u001b[0;34m=\u001b[0m \u001b[0mnd\u001b[0m\u001b[0;34m.\u001b[0m\u001b[0mleft\u001b[0m\u001b[0;34m\u001b[0m\u001b[0m\n\u001b[1;32m    804\u001b[0m                     \u001b[0mlvisited\u001b[0m\u001b[0;34m[\u001b[0m\u001b[0mndid\u001b[0m\u001b[0;34m]\u001b[0m \u001b[0;34m=\u001b[0m \u001b[0mTrue\u001b[0m\u001b[0;34m\u001b[0m\u001b[0m\n",
        "\u001b[0;31mIndexError\u001b[0m: index out of bounds"
       ]
      }
     ],
     "prompt_number": 100
    },
    {
     "cell_type": "code",
     "collapsed": false,
     "input": [
      "tree_right = tree.get_right().get_right()"
     ],
     "language": "python",
     "metadata": {},
     "outputs": [],
     "prompt_number": 104
    },
    {
     "cell_type": "code",
     "collapsed": false,
     "input": [
      "print tree_right.pre_order()"
     ],
     "language": "python",
     "metadata": {},
     "outputs": [
      {
       "ename": "IndexError",
       "evalue": "index out of bounds",
       "output_type": "pyerr",
       "traceback": [
        "\u001b[0;31m---------------------------------------------------------------------------\u001b[0m\n\u001b[0;31mIndexError\u001b[0m                                Traceback (most recent call last)",
        "\u001b[0;32m<ipython-input-105-01c09a2a0624>\u001b[0m in \u001b[0;36m<module>\u001b[0;34m()\u001b[0m\n\u001b[0;32m----> 1\u001b[0;31m \u001b[0;32mprint\u001b[0m \u001b[0mtree_right\u001b[0m\u001b[0;34m.\u001b[0m\u001b[0mpre_order\u001b[0m\u001b[0;34m(\u001b[0m\u001b[0;34m)\u001b[0m\u001b[0;34m\u001b[0m\u001b[0m\n\u001b[0m",
        "\u001b[0;32m/Users/home/Library/Enthought/Canopy_64bit/System/lib/python2.7/site-packages/scipy/cluster/hierarchy.pyc\u001b[0m in \u001b[0;36mpre_order\u001b[0;34m(self, func)\u001b[0m\n\u001b[1;32m    800\u001b[0m                 \u001b[0mk\u001b[0m \u001b[0;34m=\u001b[0m \u001b[0mk\u001b[0m \u001b[0;34m-\u001b[0m \u001b[0;36m1\u001b[0m\u001b[0;34m\u001b[0m\u001b[0m\n\u001b[1;32m    801\u001b[0m             \u001b[0;32melse\u001b[0m\u001b[0;34m:\u001b[0m\u001b[0;34m\u001b[0m\u001b[0m\n\u001b[0;32m--> 802\u001b[0;31m                 \u001b[0;32mif\u001b[0m \u001b[0;32mnot\u001b[0m \u001b[0mlvisited\u001b[0m\u001b[0;34m[\u001b[0m\u001b[0mndid\u001b[0m\u001b[0;34m]\u001b[0m\u001b[0;34m:\u001b[0m\u001b[0;34m\u001b[0m\u001b[0m\n\u001b[0m\u001b[1;32m    803\u001b[0m                     \u001b[0mcurNode\u001b[0m\u001b[0;34m[\u001b[0m\u001b[0mk\u001b[0m \u001b[0;34m+\u001b[0m \u001b[0;36m1\u001b[0m\u001b[0;34m]\u001b[0m \u001b[0;34m=\u001b[0m \u001b[0mnd\u001b[0m\u001b[0;34m.\u001b[0m\u001b[0mleft\u001b[0m\u001b[0;34m\u001b[0m\u001b[0m\n\u001b[1;32m    804\u001b[0m                     \u001b[0mlvisited\u001b[0m\u001b[0;34m[\u001b[0m\u001b[0mndid\u001b[0m\u001b[0;34m]\u001b[0m \u001b[0;34m=\u001b[0m \u001b[0mTrue\u001b[0m\u001b[0;34m\u001b[0m\u001b[0m\n",
        "\u001b[0;31mIndexError\u001b[0m: index out of bounds"
       ]
      }
     ],
     "prompt_number": 105
    },
    {
     "cell_type": "code",
     "collapsed": false,
     "input": [],
     "language": "python",
     "metadata": {},
     "outputs": []
    }
   ],
   "metadata": {}
  }
 ]
}