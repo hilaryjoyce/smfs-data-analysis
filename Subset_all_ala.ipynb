{
 "metadata": {
  "name": "Subset_all_ala"
 },
 "nbformat": 3,
 "nbformat_minor": 0,
 "worksheets": [
  {
   "cells": [
    {
     "cell_type": "markdown",
     "metadata": {},
     "source": [
      "Creating a 2000 curve set of 1000 flat curves and 1000 curved curves without:\n",
      "\n",
      "- messy nonsense data\n",
      "- no signal data"
     ]
    },
    {
     "cell_type": "code",
     "collapsed": false,
     "input": [
      "ala_flat_folder = \"../Data/aLa_flat_all/RDF_text/\"\n",
      "ala_curved_folder = \"../Data/aLa_curved_all/RDF_text/\""
     ],
     "language": "python",
     "metadata": {},
     "outputs": [],
     "prompt_number": 1
    },
    {
     "cell_type": "code",
     "collapsed": false,
     "input": [
      "from glob import glob\n",
      "import os\n",
      "import random"
     ],
     "language": "python",
     "metadata": {},
     "outputs": [],
     "prompt_number": 28
    },
    {
     "cell_type": "code",
     "collapsed": false,
     "input": [
      "ala_flat_files = glob(\"%s*.txt\" % ala_flat_folder)\n",
      "ala_curved_files = glob(\"%s*.txt\" % ala_curved_folder)"
     ],
     "language": "python",
     "metadata": {},
     "outputs": [],
     "prompt_number": 3
    },
    {
     "cell_type": "code",
     "collapsed": false,
     "input": [
      "curved_no_signal_index = [1, 22, 23, 76, 102, 134, 135, 141, 166, 168, 171, 173, 176, 186, 190, 192, 193, 195, 197, 199, 200, 201, 202, 203, 205, 207, 209, 215, 221, 240, 256, 257, 273, 278, 310, 316, 319, 320, 322, 328, 332, 342, 343, 365, 367, 370, 377, 422, 455, 457, 459, 464, 471, 483, 491, 496, 534, 657, 661, 675, 693, 700, 705, 722, 802, 804, 805, 806, 807, 808, 809, 810, 811, 812, 813, 814, 815, 816, 817, 818, 822, 824, 828, 829, 830, 831, 832, 833, 852, 853, 854, 855, 856, 857, 858, 860, 861, 862, 863, 864, 866, 872, 875, 876, 877, 888, 889, 891, 894, 895, 898, 899, 900, 903, 909, 910, 911, 912, 915, 916, 918, 919, 921, 922, 923, 924, 925, 935, 941, 944, 945, 947, 948, 949, 953, 954, 955, 957, 960, 961, 962, 963, 970, 972, 973, 974, 975, 986, 995, 1002, 1005, 1006, 1007, 1008, 1009, 1011, 1012, 1013, 1014, 1015, 1016, 1017, 1021, 1022, 1025, 1028, 1029, 1030, 1031, 1035, 1037, 1038, 1040, 1041, 1044, 1050, 1051, 1052, 1053, 1054, 1055, 1056, 1058, 1059, 1060, 1061, 1062, 1063, 1065, 1066, 1067, 1068, 1069, 1070, 1071, 1073, 1075, 1076, 1078, 1079, 1088, 1093, 1101, 1106, 1116, 1125, 1126, 1127, 1134, 1136, 1137, 1139, 1140, 1141, 1172, 1173, 1174, 1176, 1177, 1178, 1180, 1181, 1184]"
     ],
     "language": "python",
     "metadata": {},
     "outputs": [],
     "prompt_number": 4
    },
    {
     "cell_type": "code",
     "collapsed": false,
     "input": [
      "flat_no_signal_index = [11, 13, 31, 36, 250, 488, 532, 539, 552, 558, 576, 577, 578, 581, 582, 583, 584, 586, 587, 588, 589, 591, 592, 593, 596, 597, 599, 600, 601, 602, 603, 604, 606, 607, 608, 609, 610, 611, 612, 613, 614, 615, 616, 617, 618, 619, 620, 621, 622, 623, 624, 625, 626, 627, 628, 629, 630, 631, 634, 635, 637, 638, 639, 640, 641, 643, 646, 647, 651, 653, 654, 658, 659, 660, 661, 662, 664, 665, 666, 667, 668, 669, 672, 673, 674, 675, 676, 678, 682, 683, 686, 687, 688, 689, 690, 691, 692, 693, 694, 695, 711, 721, 722, 723, 724, 727, 728, 729, 731, 732, 733, 735, 748, 755, 758, 759, 760, 762, 766, 767, 768, 769, 771, 772, 773, 775, 776, 778, 779, 780, 783, 784, 785, 786, 788, 789, 790, 795, 796, 797, 798, 799, 801, 802, 803, 805, 806, 810, 811, 812, 817, 820, 824, 825, 833, 834, 835, 844, 845, 846, 847, 851, 858, 860, 861, 862, 863, 864, 865, 866, 867, 868, 869, 870, 871, 872, 873, 874, 875, 876, 877, 878, 879, 880, 881, 882, 883, 884, 885, 886, 887, 888, 889, 890, 891, 892, 893, 894, 895, 896, 897, 898, 899, 900, 901, 903, 904, 906, 907, 908, 911, 912, 920, 925, 928, 930, 933, 934, 935, 936, 940, 941, 942, 944, 945, 946, 947, 948, 950, 951, 953, 954, 955, 957, 959, 960, 961, 962, 965, 966, 968, 969, 970, 971, 972, 973, 974, 976, 977, 980, 981, 985, 988, 989, 991, 1024, 1025, 1027, 1030, 1031, 1034, 1035, 1036, 1037, 1038, 1039, 1042, 1043, 1044, 1046, 1049, 1050, 1051, 1053, 1054, 1055, 1056, 1057, 1058, 1059, 1060, 1061, 1063, 1064, 1065, 1067, 1068, 1070, 1071, 1074, 1075, 1079, 1081, 1083, 1084, 1085, 1086, 1088, 1092, 1093, 1095, 1097, 1098, 1104, 1106, 1109, 1111, 1114, 1115, 1116, 1117, 1118, 1119, 1120, 1122, 1131, 1137, 1139, 1140, 1142, 1143, 1145, 1146, 1147, 1148, 1151, 1153, 1155, 1156, 1157, 1158, 1159, 1160, 1161, 1164, 1167, 1170, 1188, 1192, 1193, 1200, 1201, 1202, 1203, 1205, 1215, 1216, 1261, 1262, 1278, 1304, 1317, 1364, 1373, 1376, 1389, 1468, 1514, 1556, 1559, 1562, 1565, 1566, 1573, 1574, 1577, 1578, 1579, 1580, 1582, 1585, 1586, 1587, 1590, 1594, 1595, 1596, 1597, 1599, 1602, 1603, 1604, 1605, 1606, 1608, 1609, 1612, 1615, 1619, 1624, 1676, 1677, 1808, 1949, 2032, 2033, 2035, 2037, 2038, 2039, 2041, 2042, 2043, 2053, 2062, 2065, 2069, 2071, 2072, 2074, 2075, 2076, 2077, 2078, 2080, 2081, 2082, 2084, 2086, 2087, 2088, 2092, 2132, 2155, 2156, 2218, 2242, 2252, 2255, 2264, 2266, 2267, 2269, 2288, 2293, 2308, 2327, 2344, 2355, 2364, 2365, 2471, 2473, 2475, 2476, 2477, 2478, 2481, 2482, 2484, 2485, 2486, 2487, 2490, 2498, 2506, 2526, 2528, 2529, 2531, 2534, 2540, 2561, 2569, 2582, 2588, 2591, 2601, 2607, 2608, 2612, 2616, 2619, 2620, 2622, 2623, 2625, 2626, 2627, 2629, 2633, 2636, 2637, 2639, 2640, 2666, 2680, 2681, 2685, 2692, 2695, 2700, 2703, 2708, 2724, 2748, 2755, 2757, 2761, 2762, 2763, 2764, 2771, 2772, 2805, 2892, 2899, 2934, 2950, 2965, 3007, 3017, 3019, 3020, 3021, 3023, 3024, 3027, 3107, 3147, 3151, 3154, 3157, 3177, 3178]"
     ],
     "language": "python",
     "metadata": {},
     "outputs": [],
     "prompt_number": 5
    },
    {
     "cell_type": "code",
     "collapsed": false,
     "input": [
      "curved_poor_signal_index = [57, 502, 518, 520, 529, 531, 532, 540, 541, 545, 549, 551, 552, 553, 554, 557, 559, 562, 563, 566, 568, 571, 576, 579, 682, 695, 724, 737, 775, 777, 583, 584, 598, 607, 608, 610, 611, 615, 616, 619, 621, 622, 624, 625, 627, 629, 631, 632, 635, 641, 642, 643, 646, 650, 651, 652, 653, 654, 655, 656]"
     ],
     "language": "python",
     "metadata": {},
     "outputs": [],
     "prompt_number": 6
    },
    {
     "cell_type": "code",
     "collapsed": false,
     "input": [
      "signal_curved_files = [ala_curved_files[i] for i in arange(0,len(ala_curved_files)) if not any(i == curved_no_signal_index)]"
     ],
     "language": "python",
     "metadata": {},
     "outputs": [],
     "prompt_number": 19
    },
    {
     "cell_type": "code",
     "collapsed": false,
     "input": [
      "print len(ala_curved_files) - len(curved_no_signal_index)\n",
      "print len(signal_curved_files)"
     ],
     "language": "python",
     "metadata": {},
     "outputs": [
      {
       "output_type": "stream",
       "stream": "stdout",
       "text": [
        "1064\n",
        "1064\n"
       ]
      }
     ],
     "prompt_number": 21
    },
    {
     "cell_type": "code",
     "collapsed": false,
     "input": [
      "good_curved_files = [signal_curved_files[i] for i in arange(0, len(signal_curved_files)) if not any(i == curved_poor_signal_index)]"
     ],
     "language": "python",
     "metadata": {},
     "outputs": [],
     "prompt_number": 22
    },
    {
     "cell_type": "code",
     "collapsed": false,
     "input": [
      "print len(signal_curved_files) - len(curved_poor_signal_index)\n",
      "print len(good_curved_files)"
     ],
     "language": "python",
     "metadata": {},
     "outputs": [
      {
       "output_type": "stream",
       "stream": "stdout",
       "text": [
        "1004\n",
        "1004\n"
       ]
      }
     ],
     "prompt_number": 23
    },
    {
     "cell_type": "code",
     "collapsed": false,
     "input": [
      "signal_flat_files = [ala_flat_files[i] for i in arange(0, len(ala_flat_files)) if not any(i == flat_no_signal_index)]"
     ],
     "language": "python",
     "metadata": {},
     "outputs": [],
     "prompt_number": 25
    },
    {
     "cell_type": "code",
     "collapsed": false,
     "input": [
      "print len(signal_flat_files)\n",
      "print len(ala_flat_files) - len(flat_no_signal_index)"
     ],
     "language": "python",
     "metadata": {},
     "outputs": [
      {
       "output_type": "stream",
       "stream": "stdout",
       "text": [
        "2676\n",
        "2676\n"
       ]
      }
     ],
     "prompt_number": 27
    },
    {
     "cell_type": "markdown",
     "metadata": {},
     "source": [
      "- Get 1000 curved files"
     ]
    },
    {
     "cell_type": "code",
     "collapsed": false,
     "input": [
      "curved_i = random.sample(xrange(len(good_curved_files)), 1000)"
     ],
     "language": "python",
     "metadata": {},
     "outputs": [],
     "prompt_number": 29
    },
    {
     "cell_type": "code",
     "collapsed": false,
     "input": [
      "flat_i = random.sample(xrange(len(signal_flat_files)), 1000)"
     ],
     "language": "python",
     "metadata": {},
     "outputs": [],
     "prompt_number": 30
    },
    {
     "cell_type": "code",
     "collapsed": false,
     "input": [
      "sample_curved = [good_curved_files[i] for i in sort(curved_i)]\n",
      "sample_flat = [signal_flat_files[i] for i in sort(flat_i)]"
     ],
     "language": "python",
     "metadata": {},
     "outputs": [],
     "prompt_number": 32
    },
    {
     "cell_type": "code",
     "collapsed": false,
     "input": [
      "import shutil"
     ],
     "language": "python",
     "metadata": {},
     "outputs": [],
     "prompt_number": 36
    },
    {
     "cell_type": "code",
     "collapsed": false,
     "input": [
      "test  = sample_curved[0]"
     ],
     "language": "python",
     "metadata": {},
     "outputs": [],
     "prompt_number": 38
    },
    {
     "cell_type": "code",
     "collapsed": false,
     "input": [
      "print test"
     ],
     "language": "python",
     "metadata": {},
     "outputs": [
      {
       "output_type": "stream",
       "stream": "stdout",
       "text": [
        "../Data/aLa_curved_all/RDF_text/ala.c27nm.3hz.e000.txt\n"
       ]
      }
     ],
     "prompt_number": 39
    },
    {
     "cell_type": "code",
     "collapsed": false,
     "input": [
      "dest_curved = \"../Data/aLa_curved_sample/RDF_text/\"\n",
      "dest_flat = \"../Data/aLa_flat_sample/RDF_text/\"\n",
      "dest_all = \"../Data/aLa_all_sample/RDF_text/\""
     ],
     "language": "python",
     "metadata": {},
     "outputs": [],
     "prompt_number": 45
    },
    {
     "cell_type": "code",
     "collapsed": false,
     "input": [
      "for file in sample_curved:\n",
      "    shutil.copy(file, dest_all)"
     ],
     "language": "python",
     "metadata": {},
     "outputs": [],
     "prompt_number": 46
    },
    {
     "cell_type": "code",
     "collapsed": false,
     "input": [
      "for file in sample_flat:\n",
      "    shutil.copy(file, dest_all)"
     ],
     "language": "python",
     "metadata": {},
     "outputs": [],
     "prompt_number": 47
    },
    {
     "cell_type": "code",
     "collapsed": false,
     "input": [
      "save_curved = open(\"curved_sample_files.txt\", 'w')\n",
      "for file in sample_curved:\n",
      "    save_curved.write('%s\\n' % file)\n",
      "save_curved.close()"
     ],
     "language": "python",
     "metadata": {},
     "outputs": [],
     "prompt_number": 54
    },
    {
     "cell_type": "code",
     "collapsed": false,
     "input": [
      "save_flat = open(\"flat_sample_files.txt\", 'w')\n",
      "for file in sample_flat:\n",
      "    save_flat.write('%s\\n' % file)\n",
      "save_flat.close()"
     ],
     "language": "python",
     "metadata": {},
     "outputs": [],
     "prompt_number": 53
    },
    {
     "cell_type": "code",
     "collapsed": false,
     "input": [],
     "language": "python",
     "metadata": {},
     "outputs": []
    }
   ],
   "metadata": {}
  }
 ]
}