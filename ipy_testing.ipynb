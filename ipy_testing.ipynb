{
 "metadata": {
  "name": "ipy_testing"
 },
 "nbformat": 3,
 "nbformat_minor": 0,
 "worksheets": [
  {
   "cells": [
    {
     "cell_type": "code",
     "collapsed": false,
     "input": [
      "%load_ext autoreload\n",
      "%autoreload 2\n",
      "import Tss_force.tss_force as tss_force\n",
      "import Density.peaks as peaks\n",
      "import Coincidence.coincidence as coin\n",
      "import essentials"
     ],
     "language": "python",
     "metadata": {},
     "outputs": [],
     "prompt_number": 1
    },
    {
     "cell_type": "code",
     "collapsed": false,
     "input": [
      "def opt_finder(x):\n",
      "    dx = diff(x)\n",
      "    i = 0\n",
      "    intercepts = []\n",
      "    while i < len(dx):\n",
      "        if (dx[i] > 0 and dx[i+1] < 0) or (dx[i] < 0 and dx[i+1] > 0):\n",
      "            intercepts.append(i+1)\n",
      "        i = i+1\n",
      "    return intercepts"
     ],
     "language": "python",
     "metadata": {},
     "outputs": [],
     "prompt_number": 46
    },
    {
     "cell_type": "code",
     "collapsed": true,
     "input": [
      "data_folder = \"../Data/DNA_tiny/\"\n",
      "param_folder = \"Parameters_SD0.017/\"\n",
      "density_folder = data_folder + \"Transform_analysis/\" + param_folder + \"Density_text/\""
     ],
     "language": "python",
     "metadata": {},
     "outputs": [],
     "prompt_number": 4
    },
    {
     "cell_type": "code",
     "collapsed": false,
     "input": [
      "print density_folder"
     ],
     "language": "python",
     "metadata": {},
     "outputs": [
      {
       "output_type": "stream",
       "stream": "stdout",
       "text": [
        "../Data/DNA_tiny/Transform_analysis/Parameters_SD0.017/Density_text/\n"
       ]
      }
     ],
     "prompt_number": 5
    },
    {
     "cell_type": "code",
     "collapsed": false,
     "input": [
      "density_data = essentials.loadFolder(density_folder, columns=2)"
     ],
     "language": "python",
     "metadata": {},
     "outputs": [],
     "prompt_number": 6
    },
    {
     "cell_type": "code",
     "collapsed": false,
     "input": [
      "Lc = density_data[0][0]\n",
      "d0 = density_data[2][1]\n",
      "d1 = density_data[0][1]"
     ],
     "language": "python",
     "metadata": {},
     "outputs": [],
     "prompt_number": 13
    },
    {
     "cell_type": "code",
     "collapsed": false,
     "input": [
      "plot(Lc, d0)\n",
      "plot(Lc+0.063, d1)\n",
      "xlim(-0.5,0.5)"
     ],
     "language": "python",
     "metadata": {},
     "outputs": [
      {
       "output_type": "pyout",
       "prompt_number": 38,
       "text": [
        "(-0.5, 0.5)"
       ]
      },
      {
       "output_type": "display_data",
       "png": "[encoded data removed]",
       "text": [
        "<matplotlib.figure.Figure at 0x10a4d3150>"
       ]
      }
     ],
     "prompt_number": 38
    },
    {
     "cell_type": "code",
     "collapsed": false,
     "input": [
      "co_matrix = coin.CoincidenceList(data_folder + \"Transform_analysis/\" + param_folder, mode='valid')"
     ],
     "language": "python",
     "metadata": {},
     "outputs": [],
     "prompt_number": 43
    },
    {
     "cell_type": "code",
     "collapsed": false,
     "input": [
      "print co_matrix[0]"
     ],
     "language": "python",
     "metadata": {},
     "outputs": [
      {
       "output_type": "stream",
       "stream": "stdout",
       "text": [
        "['000', '000', '000', '000', '000', '000', '000', '000', '000', '000', '001', '001', '001', '001', '001', '001', '001', '001', '001', '002', '002', '002', '002', '002', '002', '002', '002', '003', '003', '003', '003', '003', '003', '003', '004', '004', '004', '004', '004', '004', '005', '005', '005', '005', '005', '006', '006', '006', '006', '007', '007', '007', '008', '008', '009']\n"
       ]
      }
     ],
     "prompt_number": 44
    },
    {
     "cell_type": "code",
     "collapsed": false,
     "input": [
      "adr_name = \"Line0000Point0000.txt\"\n",
      "prot_name = \"ala.3hz.flat.b577.txt\"\n",
      "print adr_name[0:4]"
     ],
     "language": "python",
     "metadata": {},
     "outputs": [
      {
       "output_type": "stream",
       "stream": "stdout",
       "text": [
        "Line\n"
       ]
      }
     ],
     "prompt_number": 54
    },
    {
     "cell_type": "code",
     "collapsed": false,
     "input": [
      "def curveNumFinder(fileName):\n",
      "    import re\n",
      "    line_type = re.search('Line', fileName)\n",
      "    if line_type:\n",
      "        curve =  re.findall('[0-9]{4}', filename)\n",
      "        curveNum = \"%s.%s\" % (curve[0], curve[1])\n",
      "    else:\n",
      "        curve = re.search('[a-z]?[0-9]{3}(?=.txt)', fileName)\n",
      "        curveNum = curve.group(0)\n",
      "    return curveNum"
     ],
     "language": "python",
     "metadata": {},
     "outputs": [],
     "prompt_number": 51
    },
    {
     "cell_type": "code",
     "collapsed": false,
     "input": [
      "print curveNumFinder(prot_name)"
     ],
     "language": "python",
     "metadata": {},
     "outputs": [
      {
       "output_type": "stream",
       "stream": "stdout",
       "text": [
        "b577\n"
       ]
      }
     ],
     "prompt_number": 52
    },
    {
     "cell_type": "code",
     "collapsed": false,
     "input": [
      "import re\n",
      "isin = re.search('Line', adr_name)\n",
      "print isin"
     ],
     "language": "python",
     "metadata": {},
     "outputs": [
      {
       "output_type": "stream",
       "stream": "stdout",
       "text": [
        "<_sre.SRE_Match object at 0x10c0f23d8>\n"
       ]
      }
     ],
     "prompt_number": 58
    },
    {
     "cell_type": "code",
     "collapsed": false,
     "input": [
      "isntin = re.search('Blah', adr_name)"
     ],
     "language": "python",
     "metadata": {},
     "outputs": [],
     "prompt_number": 59
    },
    {
     "cell_type": "code",
     "collapsed": false,
     "input": [
      "if isin:\n",
      "    print 'True'\n",
      "else:\n",
      "    print 'False'"
     ],
     "language": "python",
     "metadata": {},
     "outputs": [
      {
       "output_type": "stream",
       "stream": "stdout",
       "text": [
        "True\n"
       ]
      }
     ],
     "prompt_number": 65
    },
    {
     "cell_type": "code",
     "collapsed": false,
     "input": [],
     "language": "python",
     "metadata": {},
     "outputs": []
    }
   ],
   "metadata": {}
  }
 ]
}