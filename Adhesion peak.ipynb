{
 "metadata": {
  "name": "Adhesion peak"
 },
 "nbformat": 3,
 "nbformat_minor": 0,
 "worksheets": [
  {
   "cells": [
    {
     "cell_type": "code",
     "collapsed": false,
     "input": [
      "%load_ext autoreload"
     ],
     "language": "python",
     "metadata": {},
     "outputs": [],
     "prompt_number": 3
    },
    {
     "cell_type": "code",
     "collapsed": false,
     "input": [
      "%autoreload 2\n",
      "from Extra_code.essentials import *\n",
      "import Transform.Lc_transform as transform\n",
      "import Tss_force.tss_force as tf"
     ],
     "language": "python",
     "metadata": {},
     "outputs": [],
     "prompt_number": 5
    },
    {
     "cell_type": "code",
     "collapsed": false,
     "input": [
      "folder = \"../Data/aLa_flat_sample/\""
     ],
     "language": "python",
     "metadata": {},
     "outputs": [],
     "prompt_number": 596
    },
    {
     "cell_type": "code",
     "collapsed": false,
     "input": [
      "tf_list, cnum_list = tf.tss_force_list(folder, type='RDF')"
     ],
     "language": "python",
     "metadata": {},
     "outputs": [],
     "prompt_number": 597
    },
    {
     "cell_type": "code",
     "collapsed": false,
     "input": [
      "len(tf_list)"
     ],
     "language": "python",
     "metadata": {},
     "outputs": [
      {
       "output_type": "pyout",
       "prompt_number": 599,
       "text": [
        "1000"
       ]
      }
     ],
     "prompt_number": 599
    },
    {
     "cell_type": "code",
     "collapsed": false,
     "input": [
      "def sort_by_tss(tss, force):\n",
      "    args = argsort(tss)\n",
      "    f = force[args]\n",
      "    t = tss[args]\n",
      "    return t, f\n",
      "\n",
      "def maxes_array(tss, force):\n",
      "    t, f = sort_by_tss(tss, force)\n",
      "    # roll arrays\n",
      "    fp = roll(f, 50)\n",
      "    fn = roll(f, -50)\n",
      "    # find maximum array\n",
      "    mat = asarray([fp, f, fn])\n",
      "    tmat = transpose(mat)\n",
      "    maxes = [max(row) for row in tmat]\n",
      "    return maxes, t, f\n",
      "\n",
      "def original_maxes(tss, force):\n",
      "    maxes, t, f = maxes_array(tss, force)\n",
      "    i = 0\n",
      "    max_orig = zeros(len(maxes))\n",
      "    while i < len(maxes):\n",
      "        if maxes[i] == f[i]:\n",
      "            max_orig[i] = 1\n",
      "        i = i+1\n",
      "    return max_orig, maxes, t, f\n",
      "\n",
      "def find_last_point(tss, force, d=0.1):\n",
      "    max_orig, maxes, t, f = original_maxes(tss, force)\n",
      "    # Find last point of adhesion region:\n",
      "    i = 0\n",
      "    # skip first 0s\n",
      "    while i < len(max_orig):\n",
      "        if max_orig[i] == 1:\n",
      "            break\n",
      "        i = i+1\n",
      "    print 'zeros', i\n",
      "    # make sure we're above the zero forces\n",
      "    while f[i] <= 0:\n",
      "        i = i+1\n",
      "    print i\n",
      "    # skip the first crazy region (hopefully this doesn't bring us to the end...)\n",
      "    while std(f[10*i:10*(i+1)]) > 100:\n",
      "        i = i+1\n",
      "        if i == len(f):\n",
      "            print \"Ran out of space\"\n",
      "    print 'std', i\n",
      "    # find region with big tss jumps\n",
      "    while (i) < len(t):\n",
      "        if t[i+1]-t[i] > d:\n",
      "            i = i+1\n",
      "            break\n",
      "        i = i+1\n",
      "    print 'tss jumps', i\n",
      "    # find first zeroed region after this\n",
      "    while any(max_orig[i:i+5] == 1):\n",
      "        i = i + 1\n",
      "    print 'rezeroed', i\n",
      "    # find first increase in f again\n",
      "    while f[i+1]-f[i] < 0:\n",
      "        i = i + 1\n",
      "    i = i+1\n",
      "    while f[i+1]-f[i] < 0:\n",
      "        i = i +1\n",
      "    print 'rise', i\n",
      "    return f, i\n",
      "    \n",
      "def remove_adhesion_peak(tss, force, d=0.1):\n",
      "    # create zeroed force array before last_point\n",
      "    f, i = find_last_point(tss, force, d)\n",
      "    f_new = copy(f)\n",
      "    f_new[0:i] = zeros(i)\n",
      "    return f_new"
     ],
     "language": "python",
     "metadata": {},
     "outputs": [],
     "prompt_number": 613
    },
    {
     "cell_type": "code",
     "collapsed": false,
     "input": [
      "# Calculate\n",
      "id = 0\n",
      "force = tf_list[id][1]\n",
      "tss = tf_list[id][0]\n",
      "maxes, t, f = maxes_array(tss, force)\n",
      "max_orig, maxes, t, f = original_maxes(tss, force)\n",
      "f, i = find_last_point(tss, force)\n",
      "f_new = remove_adhesion_peak(tss, force)\n",
      "# Plot\n",
      "figsize(12, 4)\n",
      "subplot(1,2,1)\n",
      "#plot(t, maxes, 'k-', alpha=0.5)\n",
      "plot(t, f, 'k-', alpha=0.5)\n",
      "plot(t, max_orig*f, 'b.', alpha=0.5)\n",
      "#plot(t, maxes-f, 'r.', alpha=0.5)\n",
      "plot(t[i], (max_orig*f)[i], 'ro', ms=5)\n",
      "y_max = max(f)\n",
      "xlim(-10,30)\n",
      "ylim(-100,ceil(y_max/100)*100)\n",
      "subplot(1,2,2)\n",
      "plot(t, f, 'k-', alpha=0.7)\n",
      "plot(t, f_new, 'r-')\n",
      "xlim(0,50)\n",
      "ylim(-100,ceil(y_max/100)*100);\n",
      "savefig(\"Figures/ala_flat_all_adpeak%d.png\" % id)"
     ],
     "language": "python",
     "metadata": {},
     "outputs": [
      {
       "output_type": "stream",
       "stream": "stdout",
       "text": [
        "zeros 60\n",
        "816\n",
        "std 816\n",
        "tss jumps 979\n",
        "rezeroed 1042\n",
        "rise 1044\n",
        "zeros 60\n",
        "816\n",
        "std 816\n",
        "tss jumps 979\n",
        "rezeroed 1042\n",
        "rise 1044\n"
       ]
      },
      {
       "output_type": "display_data",
       "png": "[encoded data removed]",
       "text": [
        "<matplotlib.figure.Figure at 0x113102e90>"
       ]
      }
     ],
     "prompt_number": 612
    },
    {
     "cell_type": "code",
     "collapsed": false,
     "input": [
      "for id in range(0,100):\n",
      "    force = tf_list[id][1]\n",
      "    tss = tf_list[id][0]\n",
      "    maxes, t, f = maxes_array(tss, force)\n",
      "    max_orig, maxes, t, f = original_maxes(tss, force)\n",
      "    f, i = find_last_point(tss, force)\n",
      "    f_new = remove_adhesion_peak(tss, force)\n",
      "    # Plot\n",
      "    figsize(12, 4)\n",
      "    subplot(1,2,1)\n",
      "    #plot(t, maxes, 'k-', alpha=0.5)\n",
      "    plot(t, f, 'k-', alpha=0.5)\n",
      "    plot(t, max_orig*f, 'b.', alpha=0.5)\n",
      "    #plot(t, maxes-f, 'r.', alpha=0.5)\n",
      "    plot(t[i], (max_orig*f)[i], 'ro', ms=5)\n",
      "    y_max = max(f)\n",
      "    xlim(-10,30)\n",
      "    ylim(-100,ceil(y_max/100)*100)\n",
      "    subplot(1,2,2)\n",
      "    plot(t, f, 'k-', alpha=0.7)\n",
      "    plot(t, f_new, 'r-')\n",
      "    xlim(0,50)\n",
      "    ylim(-100,ceil(y_max/100)*100);\n",
      "    savefig(\"Figures/ala_flat_sample adhesion peak removal/adpeak_%d.png\" % id)\n",
      "    clf()"
     ],
     "language": "python",
     "metadata": {},
     "outputs": [
      {
       "output_type": "stream",
       "stream": "stdout",
       "text": [
        "zeros 60\n",
        "816\n",
        "std 816\n",
        "tss jumps 979\n",
        "rezeroed 1042\n",
        "rise 1044\n",
        "zeros 60\n",
        "816\n",
        "std 816\n",
        "tss jumps 979\n",
        "rezeroed 1042\n",
        "rise 1044\n",
        "zeros"
       ]
      },
      {
       "output_type": "stream",
       "stream": "stdout",
       "text": [
        " 98\n",
        "971\n",
        "std 971\n",
        "tss jumps 993\n",
        "rezeroed 994\n",
        "rise 996\n",
        "zeros 98\n",
        "971\n",
        "std 971\n",
        "tss jumps 993\n",
        "rezeroed 994\n",
        "rise 996\n",
        "zeros"
       ]
      },
      {
       "output_type": "stream",
       "stream": "stdout",
       "text": [
        " 56\n",
        "839\n",
        "std 839\n",
        "tss jumps 1019\n",
        "rezeroed 1042\n",
        "rise 1044\n",
        "zeros 56\n",
        "839\n",
        "std 839\n",
        "tss jumps 1019\n",
        "rezeroed 1042\n",
        "rise 1044\n",
        "zeros"
       ]
      },
      {
       "output_type": "stream",
       "stream": "stdout",
       "text": [
        " 83\n",
        "1075\n",
        "std 1075\n",
        "tss jumps 1088\n",
        "rezeroed 1088\n",
        "rise 1091\n",
        "zeros 83\n",
        "1075\n",
        "std 1075\n",
        "tss jumps 1088\n",
        "rezeroed 1088\n",
        "rise 1091\n",
        "zeros"
       ]
      },
      {
       "output_type": "stream",
       "stream": "stdout",
       "text": [
        " 67\n",
        "194\n",
        "std 194\n",
        "tss jumps 1115\n",
        "rezeroed 1145\n",
        "rise 1148\n",
        "zeros 67\n",
        "194\n",
        "std 194\n",
        "tss jumps 1115\n",
        "rezeroed 1145\n",
        "rise 1148\n",
        "zeros"
       ]
      },
      {
       "output_type": "stream",
       "stream": "stdout",
       "text": [
        " 66\n",
        "994\n",
        "std 994\n",
        "tss jumps 1147\n",
        "rezeroed 1159\n",
        "rise 1162\n",
        "zeros 66\n",
        "994\n",
        "std 994\n",
        "tss jumps 1147\n",
        "rezeroed 1159\n",
        "rise 1162\n",
        "zeros"
       ]
      },
      {
       "output_type": "stream",
       "stream": "stdout",
       "text": [
        " 77\n",
        "139\n",
        "std 139\n",
        "tss jumps 1117\n",
        "rezeroed 1132\n",
        "rise 1136\n",
        "zeros 77\n",
        "139\n",
        "std 139\n",
        "tss jumps 1117\n",
        "rezeroed 1132\n",
        "rise 1136\n",
        "zeros"
       ]
      },
      {
       "output_type": "stream",
       "stream": "stdout",
       "text": [
        " 76\n",
        "950\n",
        "std 950\n",
        "tss jumps 1050\n",
        "rezeroed 1057\n",
        "rise 1062\n",
        "zeros 76\n",
        "950\n",
        "std 950\n",
        "tss jumps 1050\n",
        "rezeroed 1057\n",
        "rise 1062\n",
        "zeros"
       ]
      },
      {
       "output_type": "stream",
       "stream": "stdout",
       "text": [
        " 67\n",
        "1497\n",
        "std 1497\n",
        "tss jumps 1644\n",
        "rezeroed 1654\n",
        "rise 1655\n",
        "zeros"
       ]
      },
      {
       "output_type": "stream",
       "stream": "stdout",
       "text": [
        " 67\n",
        "1497\n",
        "std 1497\n",
        "tss jumps 1644\n",
        "rezeroed 1654\n",
        "rise 1655\n",
        "zeros"
       ]
      },
      {
       "output_type": "stream",
       "stream": "stdout",
       "text": [
        " 57\n",
        "1605\n",
        "std 1605\n",
        "tss jumps 1637\n",
        "rezeroed 1637\n",
        "rise 1638\n",
        "zeros"
       ]
      },
      {
       "output_type": "stream",
       "stream": "stdout",
       "text": [
        " 57\n",
        "1605\n",
        "std 1605\n",
        "tss jumps 1637\n",
        "rezeroed 1637\n",
        "rise 1638\n",
        "zeros"
       ]
      },
      {
       "output_type": "stream",
       "stream": "stdout",
       "text": [
        " 57\n",
        "742\n",
        "std 742\n",
        "tss jumps 1627\n",
        "rezeroed 1644\n",
        "rise 1648\n",
        "zeros 57\n",
        "742\n",
        "std 742\n",
        "tss jumps 1627\n",
        "rezeroed 1644\n",
        "rise 1648\n",
        "zeros"
       ]
      },
      {
       "output_type": "stream",
       "stream": "stdout",
       "text": [
        " 80\n",
        "903\n",
        "std 903\n",
        "tss jumps 917\n",
        "rezeroed 917\n",
        "rise 920\n",
        "zeros 80\n",
        "903\n",
        "std 903\n",
        "tss jumps 917\n",
        "rezeroed 917\n",
        "rise 920\n",
        "zeros"
       ]
      },
      {
       "output_type": "stream",
       "stream": "stdout",
       "text": [
        " 72\n",
        "874\n",
        "std 874\n",
        "tss jumps 927\n",
        "rezeroed 939\n",
        "rise 942\n",
        "zeros 72\n",
        "874\n",
        "std 874\n",
        "tss jumps 927\n",
        "rezeroed 939\n",
        "rise 942\n",
        "zeros"
       ]
      },
      {
       "output_type": "stream",
       "stream": "stdout",
       "text": [
        " 79\n",
        "820\n",
        "std 820\n",
        "tss jumps 996\n",
        "rezeroed 1009\n",
        "rise 1015\n",
        "zeros 79\n",
        "820\n",
        "std 820\n",
        "tss jumps 996\n",
        "rezeroed 1009\n",
        "rise 1015\n",
        "zeros"
       ]
      },
      {
       "output_type": "stream",
       "stream": "stdout",
       "text": [
        " 70\n",
        "499\n",
        "std 499\n",
        "tss jumps 959\n",
        "rezeroed 975\n",
        "rise 978\n",
        "zeros 70\n",
        "499\n",
        "std 499\n",
        "tss jumps 959\n",
        "rezeroed 975\n",
        "rise 978\n",
        "zeros"
       ]
      },
      {
       "output_type": "stream",
       "stream": "stdout",
       "text": [
        " 76\n",
        "889\n",
        "std 889\n",
        "tss jumps 939\n",
        "rezeroed 972\n",
        "rise 973\n",
        "zeros 76\n",
        "889\n",
        "std 889\n",
        "tss jumps 939\n",
        "rezeroed 972\n",
        "rise 973\n",
        "zeros"
       ]
      },
      {
       "output_type": "stream",
       "stream": "stdout",
       "text": [
        " 78\n",
        "717\n",
        "std 717\n",
        "tss jumps 932\n",
        "rezeroed 935\n",
        "rise 937\n",
        "zeros 78\n",
        "717\n",
        "std 717\n",
        "tss jumps 932\n",
        "rezeroed 935\n",
        "rise 937\n",
        "zeros"
       ]
      },
      {
       "output_type": "stream",
       "stream": "stdout",
       "text": [
        " 71\n",
        "525\n",
        "std 525\n",
        "tss jumps 895\n",
        "rezeroed 942\n",
        "rise 943\n",
        "zeros 71\n",
        "525\n",
        "std 525\n",
        "tss jumps 895\n",
        "rezeroed 942\n",
        "rise 943\n",
        "zeros"
       ]
      },
      {
       "output_type": "stream",
       "stream": "stdout",
       "text": [
        " 83\n",
        "785\n",
        "std 785\n",
        "tss jumps 885\n",
        "rezeroed 939\n",
        "rise 941\n",
        "zeros 83\n",
        "785\n",
        "std 785\n",
        "tss jumps 885\n",
        "rezeroed 939\n",
        "rise 941\n",
        "zeros"
       ]
      },
      {
       "output_type": "stream",
       "stream": "stdout",
       "text": [
        " 92\n",
        "876\n",
        "std 876\n",
        "tss jumps 928\n",
        "rezeroed 945\n",
        "rise 947\n",
        "zeros 92\n",
        "876\n",
        "std 876\n",
        "tss jumps 928\n",
        "rezeroed 945\n",
        "rise 947\n",
        "zeros"
       ]
      },
      {
       "output_type": "stream",
       "stream": "stdout",
       "text": [
        " 89\n",
        "884\n",
        "std 884\n",
        "tss jumps 911\n",
        "rezeroed 913\n",
        "rise 917\n",
        "zeros 89\n",
        "884\n",
        "std 884\n",
        "tss jumps 911\n",
        "rezeroed 913\n",
        "rise 917\n",
        "zeros"
       ]
      },
      {
       "output_type": "stream",
       "stream": "stdout",
       "text": [
        " 81\n",
        "833\n",
        "std 833\n",
        "tss jumps 928\n",
        "rezeroed 969\n",
        "rise 971\n",
        "zeros 81\n",
        "833\n",
        "std 833\n",
        "tss jumps 928\n",
        "rezeroed 969\n",
        "rise 971\n",
        "zeros"
       ]
      },
      {
       "output_type": "stream",
       "stream": "stdout",
       "text": [
        " 66\n",
        "433\n",
        "std 433\n",
        "tss jumps 932\n",
        "rezeroed 953\n",
        "rise 958\n",
        "zeros 66\n",
        "433\n",
        "std 433\n",
        "tss jumps 932\n",
        "rezeroed 953\n",
        "rise 958\n",
        "zeros"
       ]
      },
      {
       "output_type": "stream",
       "stream": "stdout",
       "text": [
        " 75\n",
        "737\n",
        "std 737\n",
        "tss jumps 979\n",
        "rezeroed 1000\n",
        "rise 1005\n",
        "zeros 75\n",
        "737\n",
        "std 737\n",
        "tss jumps 979\n",
        "rezeroed 1000\n",
        "rise 1005\n",
        "zeros"
       ]
      },
      {
       "output_type": "stream",
       "stream": "stdout",
       "text": [
        " 83\n",
        "523\n",
        "std 523\n",
        "tss jumps 1150\n",
        "rezeroed 1206\n",
        "rise 1210\n",
        "zeros 83\n",
        "523\n",
        "std 523\n",
        "tss jumps"
       ]
      },
      {
       "output_type": "stream",
       "stream": "stdout",
       "text": [
        " 1150\n",
        "rezeroed 1206\n",
        "rise 1210\n",
        "zeros"
       ]
      },
      {
       "output_type": "stream",
       "stream": "stdout",
       "text": [
        " 74\n",
        "938\n",
        "std 938\n",
        "tss jumps 1214\n",
        "rezeroed 1248\n",
        "rise 1251\n",
        "zeros 74\n",
        "938\n",
        "std 938\n",
        "tss jumps 1214\n",
        "rezeroed 1248\n",
        "rise 1251\n",
        "zeros"
       ]
      },
      {
       "output_type": "stream",
       "stream": "stdout",
       "text": [
        " 83\n",
        "1079\n",
        "std 1079\n",
        "tss jumps 1174\n",
        "rezeroed 1222\n",
        "rise 1230\n",
        "zeros 83\n",
        "1079\n",
        "std 1079\n",
        "tss jumps 1174\n",
        "rezeroed 1222\n",
        "rise 1230\n",
        "zeros"
       ]
      },
      {
       "output_type": "stream",
       "stream": "stdout",
       "text": [
        " 82\n",
        "477\n",
        "std 477\n",
        "tss jumps 1205\n",
        "rezeroed 1206\n",
        "rise 1209\n",
        "zeros 82\n",
        "477\n",
        "std 477\n",
        "tss jumps 1205\n",
        "rezeroed 1206\n",
        "rise 1209\n",
        "zeros"
       ]
      },
      {
       "output_type": "stream",
       "stream": "stdout",
       "text": [
        " 66\n",
        "1000\n",
        "std 1000\n",
        "tss jumps 1135\n",
        "rezeroed 1166\n",
        "rise 1168\n",
        "zeros 66\n",
        "1000\n",
        "std 1000\n",
        "tss jumps 1135\n",
        "rezeroed 1166\n",
        "rise 1168\n",
        "zeros"
       ]
      },
      {
       "output_type": "stream",
       "stream": "stdout",
       "text": [
        " 93\n",
        "1049\n",
        "std 1049\n",
        "tss jumps 1141\n",
        "rezeroed 1141\n",
        "rise 1144\n",
        "zeros 93\n",
        "1049\n",
        "std 1049\n",
        "tss jumps 1141\n",
        "rezeroed 1141\n",
        "rise 1144\n",
        "zeros"
       ]
      },
      {
       "output_type": "stream",
       "stream": "stdout",
       "text": [
        " 70\n",
        "856\n",
        "std 856\n",
        "tss jumps 1150\n",
        "rezeroed 1196\n",
        "rise 1197\n",
        "zeros 70\n",
        "856\n",
        "std 856\n",
        "tss jumps 1150\n",
        "rezeroed 1196\n",
        "rise 1197\n",
        "zeros"
       ]
      },
      {
       "output_type": "stream",
       "stream": "stdout",
       "text": [
        " 87\n",
        "794\n",
        "std 794\n",
        "tss jumps 1143\n",
        "rezeroed 1194\n",
        "rise 1199\n",
        "zeros 87\n",
        "794\n",
        "std 794\n",
        "tss jumps 1143\n",
        "rezeroed 1194\n",
        "rise 1199\n",
        "zeros"
       ]
      },
      {
       "output_type": "stream",
       "stream": "stdout",
       "text": [
        " 67\n",
        "989\n",
        "std 989\n",
        "tss jumps 1158\n",
        "rezeroed 1167\n",
        "rise 1174\n",
        "zeros 67\n",
        "989\n",
        "std 989\n",
        "tss jumps 1158\n",
        "rezeroed 1167\n",
        "rise 1174\n",
        "zeros"
       ]
      },
      {
       "output_type": "stream",
       "stream": "stdout",
       "text": [
        " 75\n",
        "1041\n",
        "std 1041\n",
        "tss jumps 1069\n",
        "rezeroed 1094\n",
        "rise 1097\n",
        "zeros 75\n",
        "1041\n",
        "std 1041\n",
        "tss jumps 1069\n",
        "rezeroed 1094\n",
        "rise 1097\n",
        "zeros"
       ]
      },
      {
       "output_type": "stream",
       "stream": "stdout",
       "text": [
        " 83\n",
        "960\n",
        "std 960\n",
        "tss jumps 1056\n",
        "rezeroed 1112\n",
        "rise 1114\n",
        "zeros 83\n",
        "960\n",
        "std 960\n",
        "tss jumps 1056\n",
        "rezeroed 1112\n",
        "rise 1114\n",
        "zeros"
       ]
      },
      {
       "output_type": "stream",
       "stream": "stdout",
       "text": [
        " 74\n",
        "412\n",
        "std 412\n",
        "tss jumps 1075\n",
        "rezeroed 1075\n",
        "rise 1079\n",
        "zeros 74\n",
        "412\n",
        "std 412\n",
        "tss jumps 1075\n",
        "rezeroed 1075\n",
        "rise 1079\n",
        "zeros"
       ]
      },
      {
       "output_type": "stream",
       "stream": "stdout",
       "text": [
        " 97\n",
        "1095\n",
        "std 1095\n",
        "tss jumps 1204\n",
        "rezeroed 1244\n",
        "rise 1255\n",
        "zeros 97\n",
        "1095\n",
        "std 1095\n",
        "tss jumps 1204\n",
        "rezeroed 1244\n",
        "rise 1255\n",
        "zeros"
       ]
      },
      {
       "output_type": "stream",
       "stream": "stdout",
       "text": [
        " 70\n",
        "1042\n",
        "std 1042\n",
        "tss jumps 1174\n",
        "rezeroed 1206\n",
        "rise 1208\n",
        "zeros 70\n",
        "1042\n",
        "std 1042\n",
        "tss jumps 1174\n",
        "rezeroed 1206\n",
        "rise 1208\n",
        "zeros"
       ]
      },
      {
       "output_type": "stream",
       "stream": "stdout",
       "text": [
        " 81\n",
        "928\n",
        "std 928\n",
        "tss jumps 1226\n",
        "rezeroed 1256\n",
        "rise 1268\n",
        "zeros 81\n",
        "928\n",
        "std 928\n",
        "tss jumps 1226\n",
        "rezeroed 1256\n",
        "rise 1268\n",
        "zeros"
       ]
      },
      {
       "output_type": "stream",
       "stream": "stdout",
       "text": [
        " 86\n",
        "862\n",
        "std 862\n",
        "tss jumps 1204\n",
        "rezeroed 1225\n",
        "rise 1240\n",
        "zeros 86\n",
        "862\n",
        "std"
       ]
      },
      {
       "output_type": "stream",
       "stream": "stdout",
       "text": [
        " 862\n",
        "tss jumps 1204\n",
        "rezeroed 1225\n",
        "rise 1240\n",
        "zeros"
       ]
      },
      {
       "output_type": "stream",
       "stream": "stdout",
       "text": [
        " 89\n",
        "827\n",
        "std 827\n",
        "tss jumps 1181\n",
        "rezeroed 1208\n",
        "rise 1211\n",
        "zeros 89\n",
        "827\n",
        "std 827\n",
        "tss jumps 1181\n",
        "rezeroed 1208\n",
        "rise 1211\n",
        "zeros"
       ]
      },
      {
       "output_type": "stream",
       "stream": "stdout",
       "text": [
        " 69\n",
        "943\n",
        "std 943\n",
        "tss jumps 1174\n",
        "rezeroed 1208\n",
        "rise 1212\n",
        "zeros 69\n",
        "943\n",
        "std 943\n",
        "tss jumps 1174\n",
        "rezeroed 1208\n",
        "rise 1212\n",
        "zeros"
       ]
      },
      {
       "output_type": "stream",
       "stream": "stdout",
       "text": [
        " 74\n",
        "998\n",
        "std 998\n",
        "tss jumps 1167\n",
        "rezeroed 1196\n",
        "rise 1205\n",
        "zeros 74\n",
        "998\n",
        "std 998\n",
        "tss jumps 1167\n",
        "rezeroed 1196\n",
        "rise 1205\n",
        "zeros"
       ]
      },
      {
       "output_type": "stream",
       "stream": "stdout",
       "text": [
        " 84\n",
        "614\n",
        "std 614\n",
        "tss jumps 1168\n",
        "rezeroed 1176\n",
        "rise 1189\n",
        "zeros 84\n",
        "614\n",
        "std 614\n",
        "tss jumps 1168\n",
        "rezeroed 1176\n",
        "rise 1189\n",
        "zeros"
       ]
      },
      {
       "output_type": "stream",
       "stream": "stdout",
       "text": [
        " 73\n",
        "535\n",
        "std 535\n",
        "tss jumps 1126\n",
        "rezeroed 1167\n",
        "rise 1172\n",
        "zeros 73\n",
        "535\n",
        "std 535\n",
        "tss jumps 1126\n",
        "rezeroed 1167\n",
        "rise 1172\n",
        "zeros"
       ]
      },
      {
       "output_type": "stream",
       "stream": "stdout",
       "text": [
        " 70\n",
        "754\n",
        "std 754\n",
        "tss jumps 1090\n",
        "rezeroed 1136\n",
        "rise 1149\n",
        "zeros 70\n",
        "754\n",
        "std 754\n",
        "tss jumps 1090\n",
        "rezeroed 1136\n",
        "rise 1149\n",
        "zeros"
       ]
      },
      {
       "output_type": "stream",
       "stream": "stdout",
       "text": [
        " 69\n",
        "737\n",
        "std 737\n",
        "tss jumps 1021\n",
        "rezeroed 1030\n",
        "rise 1033\n",
        "zeros 69\n",
        "737\n",
        "std 737\n",
        "tss jumps 1021\n",
        "rezeroed 1030\n",
        "rise 1033\n",
        "zeros"
       ]
      },
      {
       "output_type": "stream",
       "stream": "stdout",
       "text": [
        " 72\n",
        "841\n",
        "std 841\n",
        "tss jumps 953\n",
        "rezeroed 1000\n",
        "rise 1002\n",
        "zeros 72\n",
        "841\n",
        "std 841\n",
        "tss jumps 953\n",
        "rezeroed 1000\n",
        "rise 1002\n",
        "zeros"
       ]
      },
      {
       "output_type": "stream",
       "stream": "stdout",
       "text": [
        " 68\n",
        "770\n",
        "std 770\n",
        "tss jumps 806\n",
        "rezeroed 841\n",
        "rise 843\n",
        "zeros 68\n",
        "770\n",
        "std 770\n",
        "tss jumps 806\n",
        "rezeroed 841\n",
        "rise 843\n",
        "zeros"
       ]
      },
      {
       "output_type": "stream",
       "stream": "stdout",
       "text": [
        " 75\n",
        "686\n",
        "std 686\n",
        "tss jumps 784\n",
        "rezeroed 799\n",
        "rise 803\n",
        "zeros 75\n",
        "686\n",
        "std 686\n",
        "tss jumps 784\n",
        "rezeroed 799\n",
        "rise 803\n",
        "zeros"
       ]
      },
      {
       "output_type": "stream",
       "stream": "stdout",
       "text": [
        " 92\n",
        "548\n",
        "std 548\n",
        "tss jumps 759\n",
        "rezeroed 800\n",
        "rise 802\n",
        "zeros 92\n",
        "548\n",
        "std 548\n",
        "tss jumps 759\n",
        "rezeroed 800\n",
        "rise 802\n",
        "zeros"
       ]
      },
      {
       "output_type": "stream",
       "stream": "stdout",
       "text": [
        " 81\n",
        "630\n",
        "std 630\n",
        "tss jumps 728\n",
        "rezeroed 728\n",
        "rise 729\n",
        "zeros 81\n",
        "630\n",
        "std 630\n",
        "tss jumps 728\n",
        "rezeroed 728\n",
        "rise 729\n",
        "zeros"
       ]
      },
      {
       "output_type": "stream",
       "stream": "stdout",
       "text": [
        " 92\n",
        "333\n",
        "std 333\n",
        "tss jumps 764\n",
        "rezeroed 771\n",
        "rise 774\n",
        "zeros 92\n",
        "333\n",
        "std 333\n",
        "tss jumps 764\n",
        "rezeroed 771\n",
        "rise 774\n",
        "zeros"
       ]
      },
      {
       "output_type": "stream",
       "stream": "stdout",
       "text": [
        " 66\n",
        "1209\n",
        "std 1209\n",
        "tss jumps 1347\n",
        "rezeroed 1386\n",
        "rise 1389\n",
        "zeros 66\n",
        "1209\n",
        "std 1209\n",
        "tss jumps 1347\n",
        "rezeroed 1386\n",
        "rise 1389\n",
        "zeros"
       ]
      },
      {
       "output_type": "stream",
       "stream": "stdout",
       "text": [
        " 100\n",
        "811\n",
        "std 811\n",
        "tss jumps 1263\n",
        "rezeroed 1287\n",
        "rise 1289\n",
        "zeros 100\n",
        "811\n",
        "std 811\n",
        "tss jumps 1263\n",
        "rezeroed 1287\n",
        "rise 1289\n",
        "zeros"
       ]
      },
      {
       "output_type": "stream",
       "stream": "stdout",
       "text": [
        " 84\n",
        "626\n",
        "std 626\n",
        "tss jumps 1224\n",
        "rezeroed 1254\n",
        "rise 1257\n",
        "zeros 84\n",
        "626\n",
        "std 626\n",
        "tss jumps 1224\n",
        "rezeroed 1254\n",
        "rise 1257\n",
        "zeros"
       ]
      },
      {
       "output_type": "stream",
       "stream": "stdout",
       "text": [
        " 75\n",
        "927\n",
        "std 927\n",
        "tss jumps 1198\n",
        "rezeroed 1242\n",
        "rise 1244\n",
        "zeros 75\n",
        "927\n",
        "std 927\n",
        "tss jumps 1198\n",
        "rezeroed 1242\n",
        "rise 1244\n",
        "zeros"
       ]
      },
      {
       "output_type": "stream",
       "stream": "stdout",
       "text": [
        " 100\n",
        "322\n",
        "std 322\n",
        "tss jumps 1197\n",
        "rezeroed 1219\n",
        "rise 1226\n",
        "zeros 100\n",
        "322\n",
        "std 322\n",
        "tss jumps 1197\n",
        "rezeroed 1219\n",
        "rise 1226\n",
        "zeros"
       ]
      },
      {
       "output_type": "stream",
       "stream": "stdout",
       "text": [
        " 96\n",
        "849\n",
        "std 849\n",
        "tss jumps 1077\n",
        "rezeroed 1111\n",
        "rise 1112\n",
        "zeros 96\n",
        "849\n",
        "std 849\n",
        "tss jumps 1077\n",
        "rezeroed 1111\n",
        "rise 1112\n",
        "zeros"
       ]
      },
      {
       "output_type": "stream",
       "stream": "stdout",
       "text": [
        " 96\n",
        "687\n",
        "std 687\n",
        "tss jumps 1129\n",
        "rezeroed 1152\n",
        "rise 1155\n",
        "zeros 96\n",
        "687\n",
        "std 687\n",
        "tss jumps 1129\n",
        "rezeroed 1152\n",
        "rise 1155\n",
        "zeros"
       ]
      },
      {
       "output_type": "stream",
       "stream": "stdout",
       "text": [
        " 77\n",
        "1200\n",
        "std 1200\n",
        "tss jumps 1563\n",
        "rezeroed 1604\n",
        "rise 1607\n",
        "zeros 77\n",
        "1200\n",
        "std 1200\n",
        "tss jumps 1563\n",
        "rezeroed 1604\n",
        "rise 1607\n",
        "zeros"
       ]
      },
      {
       "output_type": "stream",
       "stream": "stdout",
       "text": [
        " 69\n",
        "265\n",
        "std 265\n",
        "tss jumps 1565\n",
        "rezeroed 1598\n",
        "rise 1606\n",
        "zeros 69\n",
        "265\n",
        "std 265\n",
        "tss jumps 1565\n",
        "rezeroed 1598\n",
        "rise 1606\n",
        "zeros"
       ]
      },
      {
       "output_type": "stream",
       "stream": "stdout",
       "text": [
        " 85\n",
        "987\n",
        "std 987\n",
        "tss jumps 1554\n",
        "rezeroed 1580\n",
        "rise 1584\n",
        "zeros 85\n",
        "987\n",
        "std 987\n",
        "tss jumps 1554\n",
        "rezeroed 1580\n",
        "rise 1584\n",
        "zeros"
       ]
      },
      {
       "output_type": "stream",
       "stream": "stdout",
       "text": [
        " 76\n",
        "1387\n",
        "std 1387\n",
        "tss jumps 1551\n",
        "rezeroed 1570\n",
        "rise 1572\n",
        "zeros 76\n",
        "1387\n",
        "std 1387\n",
        "tss jumps 1551\n",
        "rezeroed 1570\n",
        "rise 1572\n",
        "zeros"
       ]
      },
      {
       "output_type": "stream",
       "stream": "stdout",
       "text": [
        " 75\n",
        "1101\n",
        "std 1101\n",
        "tss jumps 1541\n",
        "rezeroed 1554\n",
        "rise 1560\n",
        "zeros 75\n",
        "1101\n",
        "std 1101\n",
        "tss jumps 1541\n",
        "rezeroed 1554\n",
        "rise 1560\n",
        "zeros"
       ]
      },
      {
       "output_type": "stream",
       "stream": "stdout",
       "text": [
        " 96\n",
        "999\n",
        "std 999\n",
        "tss jumps 1505\n",
        "rezeroed 1540\n",
        "rise 1544\n",
        "zeros 96\n",
        "999\n",
        "std 999\n",
        "tss jumps 1505\n",
        "rezeroed 1540\n",
        "rise 1544\n",
        "zeros"
       ]
      },
      {
       "output_type": "stream",
       "stream": "stdout",
       "text": [
        " 83\n",
        "198\n",
        "std 198\n",
        "tss jumps 1536\n",
        "rezeroed 1543\n",
        "rise 1552\n",
        "zeros 83\n",
        "198\n",
        "std 198\n",
        "tss jumps 1536\n",
        "rezeroed 1543\n",
        "rise 1552\n",
        "zeros"
       ]
      },
      {
       "output_type": "stream",
       "stream": "stdout",
       "text": [
        " 89\n",
        "923\n",
        "std 923\n",
        "tss jumps 1490\n",
        "rezeroed 1529\n",
        "rise 1542\n",
        "zeros 89\n",
        "923\n",
        "std 923\n",
        "tss jumps 1490\n",
        "rezeroed 1529\n",
        "rise 1542\n",
        "zeros"
       ]
      },
      {
       "output_type": "stream",
       "stream": "stdout",
       "text": [
        " 92\n",
        "1294\n",
        "std 1294\n",
        "tss jumps 1466\n",
        "rezeroed 1466\n",
        "rise 1467\n",
        "zeros 92\n",
        "1294\n",
        "std 1294\n",
        "tss jumps 1466\n",
        "rezeroed 1466\n",
        "rise 1467\n",
        "zeros"
       ]
      },
      {
       "output_type": "stream",
       "stream": "stdout",
       "text": [
        " 71\n",
        "967\n",
        "std 967\n",
        "tss jumps 1466\n",
        "rezeroed 1483\n",
        "rise 1487\n",
        "zeros 71\n",
        "967\n",
        "std 967\n",
        "tss jumps 1466\n",
        "rezeroed 1483\n",
        "rise 1487\n",
        "zeros"
       ]
      },
      {
       "output_type": "stream",
       "stream": "stdout",
       "text": [
        " 71\n",
        "752\n",
        "std 752\n",
        "tss jumps 1479\n",
        "rezeroed 1489\n",
        "rise 1500\n",
        "zeros 71\n",
        "752\n",
        "std 752\n",
        "tss jumps 1479\n",
        "rezeroed 1489\n",
        "rise 1500\n",
        "zeros"
       ]
      },
      {
       "output_type": "stream",
       "stream": "stdout",
       "text": [
        " 64\n",
        "1373\n",
        "std 1373\n",
        "tss jumps 1499\n",
        "rezeroed 1537\n",
        "rise 1540\n",
        "zeros 64\n",
        "1373\n",
        "std 1373\n",
        "tss jumps 1499\n",
        "rezeroed 1537\n",
        "rise 1540\n",
        "zeros"
       ]
      },
      {
       "output_type": "stream",
       "stream": "stdout",
       "text": [
        " 54\n",
        "978\n",
        "std 978\n",
        "tss jumps 1491\n",
        "rezeroed 1491\n",
        "rise 1492\n",
        "zeros 54\n",
        "978\n",
        "std 978\n",
        "tss jumps 1491\n",
        "rezeroed 1491\n",
        "rise 1492\n",
        "zeros"
       ]
      },
      {
       "output_type": "stream",
       "stream": "stdout",
       "text": [
        " 71\n",
        "454\n",
        "std 454\n",
        "tss jumps 1478\n",
        "rezeroed 1503\n",
        "rise 1512\n",
        "zeros 71\n",
        "454\n",
        "std 454\n",
        "tss jumps 1478\n",
        "rezeroed 1503\n",
        "rise 1512\n",
        "zeros"
       ]
      },
      {
       "output_type": "stream",
       "stream": "stdout",
       "text": [
        " 72\n",
        "484\n",
        "std 484\n",
        "tss jumps 1028\n",
        "rezeroed 1031\n",
        "rise 1032\n",
        "zeros 72\n",
        "484\n",
        "std 484\n",
        "tss jumps 1028\n",
        "rezeroed 1031\n",
        "rise 1032\n",
        "zeros"
       ]
      },
      {
       "output_type": "stream",
       "stream": "stdout",
       "text": [
        " 94\n",
        "563\n",
        "std 563\n",
        "tss jumps 1011\n",
        "rezeroed 1044\n",
        "rise 1045\n",
        "zeros 94\n",
        "563\n",
        "std 563\n",
        "tss jumps 1011\n",
        "rezeroed 1044\n",
        "rise 1045\n",
        "zeros"
       ]
      },
      {
       "output_type": "stream",
       "stream": "stdout",
       "text": [
        " 67\n",
        "344\n",
        "std 344\n",
        "tss jumps 988\n",
        "rezeroed 1019\n",
        "rise 1023\n",
        "zeros 67\n",
        "344\n",
        "std 344\n",
        "tss jumps 988\n",
        "rezeroed 1019\n",
        "rise 1023\n",
        "zeros"
       ]
      },
      {
       "output_type": "stream",
       "stream": "stdout",
       "text": [
        " 82\n",
        "575\n",
        "std 575\n",
        "tss jumps 982\n",
        "rezeroed 1005\n",
        "rise 1007\n",
        "zeros 82\n",
        "575\n",
        "std 575\n",
        "tss jumps 982\n",
        "rezeroed 1005\n",
        "rise 1007\n",
        "zeros"
       ]
      },
      {
       "output_type": "stream",
       "stream": "stdout",
       "text": [
        " 70\n",
        "794\n",
        "std 794\n",
        "tss jumps 888\n",
        "rezeroed 901\n",
        "rise 902\n",
        "zeros 70\n",
        "794\n",
        "std 794\n",
        "tss jumps 888\n",
        "rezeroed 901\n",
        "rise 902\n",
        "zeros"
       ]
      },
      {
       "output_type": "stream",
       "stream": "stdout",
       "text": [
        " 75\n",
        "750\n",
        "std 750\n",
        "tss jumps 863\n",
        "rezeroed 863\n",
        "rise 866\n",
        "zeros 75\n",
        "750\n",
        "std 750\n",
        "tss jumps 863\n",
        "rezeroed 863\n",
        "rise 866\n",
        "zeros"
       ]
      },
      {
       "output_type": "stream",
       "stream": "stdout",
       "text": [
        " 75\n",
        "780\n",
        "std 780\n",
        "tss jumps 870\n",
        "rezeroed 904\n",
        "rise 905\n",
        "zeros 75\n",
        "780\n",
        "std 780\n",
        "tss jumps 870\n",
        "rezeroed 904\n",
        "rise 905\n",
        "zeros"
       ]
      },
      {
       "output_type": "stream",
       "stream": "stdout",
       "text": [
        " 69\n",
        "195\n",
        "std 195\n",
        "tss jumps 881\n",
        "rezeroed 901\n",
        "rise 908\n",
        "zeros 69\n",
        "195\n",
        "std 195\n",
        "tss jumps 881\n",
        "rezeroed 901\n",
        "rise 908\n",
        "zeros"
       ]
      },
      {
       "output_type": "stream",
       "stream": "stdout",
       "text": [
        " 102\n",
        "560\n",
        "std 560\n",
        "tss jumps 827\n",
        "rezeroed 830\n",
        "rise 834\n",
        "zeros 102\n",
        "560\n",
        "std 560\n",
        "tss jumps 827\n",
        "rezeroed 830\n",
        "rise 834\n",
        "zeros"
       ]
      },
      {
       "output_type": "stream",
       "stream": "stdout",
       "text": [
        " 75\n",
        "583\n",
        "std 583\n",
        "tss jumps 846\n",
        "rezeroed 855\n",
        "rise 863\n",
        "zeros 75\n",
        "583\n",
        "std 583\n",
        "tss jumps 846\n",
        "rezeroed 855\n",
        "rise 863\n",
        "zeros"
       ]
      },
      {
       "output_type": "stream",
       "stream": "stdout",
       "text": [
        " 81\n",
        "556\n",
        "std 556\n",
        "tss jumps 748\n",
        "rezeroed 770\n",
        "rise 773\n",
        "zeros 81\n",
        "556\n",
        "std 556\n",
        "tss jumps 748\n",
        "rezeroed 770\n",
        "rise 773\n",
        "zeros"
       ]
      },
      {
       "output_type": "stream",
       "stream": "stdout",
       "text": [
        " 62\n",
        "338\n",
        "std 338\n",
        "tss jumps 692\n",
        "rezeroed 727\n",
        "rise 731\n",
        "zeros 62\n",
        "338\n",
        "std 338\n",
        "tss jumps 692\n",
        "rezeroed 727\n",
        "rise 731\n",
        "zeros"
       ]
      },
      {
       "output_type": "stream",
       "stream": "stdout",
       "text": [
        " 75\n",
        "274\n",
        "std 274\n",
        "tss jumps 1076\n",
        "rezeroed 1076\n",
        "rise 1078\n",
        "zeros 75\n",
        "274\n",
        "std 274\n",
        "tss jumps 1076\n",
        "rezeroed 1076\n",
        "rise 1078\n",
        "zeros"
       ]
      },
      {
       "output_type": "stream",
       "stream": "stdout",
       "text": [
        " 74\n",
        "893\n",
        "std 893\n",
        "tss jumps 1060\n",
        "rezeroed 1060\n",
        "rise 1062\n",
        "zeros 74\n",
        "893\n",
        "std 893\n",
        "tss jumps 1060\n",
        "rezeroed 1060\n",
        "rise 1062\n",
        "zeros"
       ]
      },
      {
       "output_type": "stream",
       "stream": "stdout",
       "text": [
        " 68\n",
        "884\n",
        "std 884\n",
        "tss jumps 996\n",
        "rezeroed 1016\n",
        "rise 1018\n",
        "zeros 68\n",
        "884\n",
        "std 884\n",
        "tss jumps 996\n",
        "rezeroed 1016\n",
        "rise 1018\n",
        "zeros"
       ]
      },
      {
       "output_type": "stream",
       "stream": "stdout",
       "text": [
        " 81\n",
        "858\n",
        "std 858\n",
        "tss jumps 919\n",
        "rezeroed 932\n",
        "rise 936\n",
        "zeros 81\n",
        "858\n",
        "std 858\n",
        "tss jumps 919\n",
        "rezeroed 932\n",
        "rise 936\n",
        "zeros"
       ]
      },
      {
       "output_type": "stream",
       "stream": "stdout",
       "text": [
        " 69\n",
        "777\n",
        "std 777\n",
        "tss jumps 941\n",
        "rezeroed 956\n",
        "rise 960\n",
        "zeros 69\n",
        "777\n",
        "std 777\n",
        "tss jumps 941\n",
        "rezeroed 956\n",
        "rise 960\n",
        "zeros"
       ]
      },
      {
       "output_type": "stream",
       "stream": "stdout",
       "text": [
        " 75\n",
        "447\n",
        "std 447\n",
        "tss jumps 916\n",
        "rezeroed 968\n",
        "rise 970\n",
        "zeros 75\n",
        "447\n",
        "std 447\n",
        "tss jumps 916\n",
        "rezeroed 968\n",
        "rise 970\n",
        "zeros"
       ]
      },
      {
       "output_type": "stream",
       "stream": "stdout",
       "text": [
        " 74\n",
        "798\n",
        "std 798\n",
        "tss jumps 892\n",
        "rezeroed 908\n",
        "rise 910\n",
        "zeros 74\n",
        "798\n",
        "std 798\n",
        "tss jumps 892\n",
        "rezeroed 908\n",
        "rise 910\n",
        "zeros"
       ]
      },
      {
       "output_type": "stream",
       "stream": "stdout",
       "text": [
        " 88\n",
        "801\n",
        "std 801\n",
        "tss jumps 828\n",
        "rezeroed 830\n",
        "rise 834\n",
        "zeros 88\n",
        "801\n",
        "std 801\n",
        "tss jumps 828\n",
        "rezeroed 830\n",
        "rise 834\n",
        "zeros"
       ]
      },
      {
       "output_type": "stream",
       "stream": "stdout",
       "text": [
        " 76\n",
        "758\n",
        "std 758\n",
        "tss jumps 859\n",
        "rezeroed 869\n",
        "rise 873\n",
        "zeros 76\n",
        "758\n",
        "std 758\n",
        "tss jumps 859\n",
        "rezeroed 869\n",
        "rise 873\n",
        "zeros"
       ]
      },
      {
       "output_type": "stream",
       "stream": "stdout",
       "text": [
        " 90\n",
        "743\n",
        "std 743\n",
        "tss jumps 866\n",
        "rezeroed 922\n",
        "rise 929\n",
        "zeros 90\n",
        "743\n",
        "std 743\n",
        "tss jumps 866\n",
        "rezeroed 922\n",
        "rise 929\n",
        "zeros"
       ]
      },
      {
       "output_type": "stream",
       "stream": "stdout",
       "text": [
        " 62\n",
        "239\n",
        "std 239\n",
        "tss jumps 841\n",
        "rezeroed 867\n",
        "rise 877\n",
        "zeros 62\n",
        "239\n",
        "std 239\n",
        "tss jumps 841\n",
        "rezeroed 867\n",
        "rise 877\n",
        "zeros"
       ]
      },
      {
       "output_type": "stream",
       "stream": "stdout",
       "text": [
        " 67\n",
        "659\n",
        "std 659\n",
        "tss jumps 822\n",
        "rezeroed 858\n",
        "rise 861\n",
        "zeros 67\n",
        "659\n",
        "std 659\n",
        "tss jumps 822\n",
        "rezeroed 858\n",
        "rise 861\n",
        "zeros"
       ]
      },
      {
       "output_type": "stream",
       "stream": "stdout",
       "text": [
        " 75\n",
        "614\n",
        "std 614\n",
        "tss jumps 709\n",
        "rezeroed 713\n",
        "rise 716\n",
        "zeros 75\n",
        "614\n",
        "std 614\n",
        "tss jumps 709\n",
        "rezeroed 713\n",
        "rise 716\n",
        "zeros"
       ]
      },
      {
       "output_type": "stream",
       "stream": "stdout",
       "text": [
        " 99\n",
        "689\n",
        "std 689\n",
        "tss jumps 691\n",
        "rezeroed 693\n",
        "rise 694\n",
        "zeros 99\n",
        "689"
       ]
      },
      {
       "output_type": "stream",
       "stream": "stdout",
       "text": [
        "\n",
        "std 689\n",
        "tss jumps 691\n",
        "rezeroed 693\n",
        "rise 694\n"
       ]
      },
      {
       "output_type": "display_data",
       "text": [
        "<matplotlib.figure.Figure at 0x111d670d0>"
       ]
      }
     ],
     "prompt_number": 615
    },
    {
     "cell_type": "code",
     "collapsed": false,
     "input": [],
     "language": "python",
     "metadata": {},
     "outputs": []
    }
   ],
   "metadata": {}
  }
 ]
}