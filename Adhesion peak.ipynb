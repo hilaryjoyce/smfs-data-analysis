{
 "metadata": {
  "name": "Adhesion peak"
 },
 "nbformat": 3,
 "nbformat_minor": 0,
 "worksheets": [
  {
   "cells": [
    {
     "cell_type": "code",
     "collapsed": false,
     "input": [
      "%load_ext autoreload"
     ],
     "language": "python",
     "metadata": {},
     "outputs": [],
     "prompt_number": 3
    },
    {
     "cell_type": "code",
     "collapsed": false,
     "input": [
      "%autoreload 2\n",
      "from Extra_code.essentials import *\n",
      "import Transform.Lc_transform as transform\n",
      "import Tss_force.tss_force as tf"
     ],
     "language": "python",
     "metadata": {},
     "outputs": [],
     "prompt_number": 5
    },
    {
     "cell_type": "code",
     "collapsed": false,
     "input": [
      "folder = \"../Data/aLa_flat_sample/\""
     ],
     "language": "python",
     "metadata": {},
     "outputs": [],
     "prompt_number": 596
    },
    {
     "cell_type": "code",
     "collapsed": false,
     "input": [
      "tf_list, cnum_list = tf.tss_force_list(folder, type='RDF')"
     ],
     "language": "python",
     "metadata": {},
     "outputs": [],
     "prompt_number": 597
    },
    {
     "cell_type": "code",
     "collapsed": false,
     "input": [
      "len(tf_list)"
     ],
     "language": "python",
     "metadata": {},
     "outputs": [
      {
       "output_type": "pyout",
       "prompt_number": 599,
       "text": [
        "1000"
       ]
      }
     ],
     "prompt_number": 599
    },
    {
     "cell_type": "code",
     "collapsed": false,
     "input": [
      "def sort_by_tss(tss, force):\n",
      "    args = argsort(tss)\n",
      "    f = force[args]\n",
      "    t = tss[args]\n",
      "    return t, f\n",
      "\n",
      "def maxes_array(tss, force):\n",
      "    t, f = sort_by_tss(tss, force)\n",
      "    # roll arrays\n",
      "    fp = roll(f, 50)\n",
      "    fn = roll(f, -50)\n",
      "    # find maximum array\n",
      "    mat = asarray([fp, f, fn])\n",
      "    tmat = transpose(mat)\n",
      "    maxes = [max(row) for row in tmat]\n",
      "    return maxes, t, f\n",
      "\n",
      "def original_maxes(tss, force):\n",
      "    maxes, t, f = maxes_array(tss, force)\n",
      "    i = 0\n",
      "    max_orig = zeros(len(maxes))\n",
      "    while i < len(maxes):\n",
      "        if maxes[i] == f[i]:\n",
      "            max_orig[i] = 1\n",
      "        i = i+1\n",
      "    return max_orig, maxes, t, f\n",
      "\n",
      "def find_last_point(tss, force, d=0.1):\n",
      "    max_orig, maxes, t, f = original_maxes(tss, force)\n",
      "    # Find last point of adhesion region:\n",
      "    i = 0\n",
      "    # skip first 0s\n",
      "    while i < len(max_orig):\n",
      "        if max_orig[i] == 1:\n",
      "            break\n",
      "        i = i+1\n",
      "    #print 'zeros', i\n",
      "    # skip the first crazy region (hopefully this doesn't bring us to the end...)\n",
      "    while std(f[10*i:10*(i+1)]) > 100:\n",
      "        i = i+1\n",
      "    #print 'std', i\n",
      "    # find region with big tss jumps\n",
      "    while (i) < len(t):\n",
      "        if t[i+1]-t[i] > d:\n",
      "            i = i+1\n",
      "            break\n",
      "        i = i+1\n",
      "    #print 'tss jumps', i\n",
      "    # find first zeroed region after this\n",
      "    while any(max_orig[i:i+5] == 1):\n",
      "        i = i + 1\n",
      "    #print 'rezeroed', i\n",
      "    # find first increase in f again\n",
      "    while f[i+1]-f[i] < 0:\n",
      "        i = i + 1\n",
      "    i = i+1\n",
      "    while f[i+1]-f[i] < 0:\n",
      "        i = i +1\n",
      "    #print 'rise', i\n",
      "    return f, i\n",
      "    \n",
      "def remove_adhesion_peak(tss, force, d=0.1):\n",
      "    # create zeroed force array before last_point\n",
      "    f, i = find_last_point(tss, force, d)\n",
      "    f_new = copy(f)\n",
      "    f_new[0:i] = zeros(i)\n",
      "    return f_new"
     ],
     "language": "python",
     "metadata": {},
     "outputs": [],
     "prompt_number": 591
    },
    {
     "cell_type": "code",
     "collapsed": false,
     "input": [
      "# Calculate\n",
      "id = 13\n",
      "force = tf_list[id][1]\n",
      "tss = tf_list[id][0]\n",
      "maxes, t, f = maxes_array(tss, force)\n",
      "max_orig, maxes, t, f = original_maxes(tss, force)\n",
      "f, i = find_last_point(tss, force)\n",
      "f_new = remove_adhesion_peak(tss, force)\n",
      "# Plot\n",
      "figsize(12, 4)\n",
      "subplot(1,2,1)\n",
      "#plot(t, maxes, 'k-', alpha=0.5)\n",
      "plot(t, f, 'k-', alpha=0.5)\n",
      "plot(t, max_orig*f, 'b.', alpha=0.5)\n",
      "#plot(t, maxes-f, 'r.', alpha=0.5)\n",
      "plot(t[i], (max_orig*f)[i], 'ro', ms=5)\n",
      "y_max = max(f)\n",
      "xlim(-10,30)\n",
      "ylim(-100,ceil(y_max/100)*100)\n",
      "subplot(1,2,2)\n",
      "plot(t, f, 'k-', alpha=0.7)\n",
      "plot(t, f_new, 'r-')\n",
      "xlim(0,50)\n",
      "ylim(-100,ceil(y_max/100)*100);\n",
      "savefig(\"Figures/ala_flat_all_adpeak%d.png\" % id)"
     ],
     "language": "python",
     "metadata": {},
     "outputs": [
      {
       "output_type": "display_data",
       "png": "[encoded data removed]",
       "text": [
        "<matplotlib.figure.Figure at 0x111c9cc90>"
       ]
      }
     ],
     "prompt_number": 594
    },
    {
     "cell_type": "code",
     "collapsed": false,
     "input": [
      "for id in range(0,100):\n",
      "    force = tf_list[id][1]\n",
      "    tss = tf_list[id][0]\n",
      "    maxes, t, f = maxes_array(tss, force)\n",
      "    max_orig, maxes, t, f = original_maxes(tss, force)\n",
      "    f, i = find_last_point(tss, force)\n",
      "    f_new = remove_adhesion_peak(tss, force)\n",
      "    # Plot\n",
      "    figsize(12, 4)\n",
      "    subplot(1,2,1)\n",
      "    #plot(t, maxes, 'k-', alpha=0.5)\n",
      "    plot(t, f, 'k-', alpha=0.5)\n",
      "    plot(t, max_orig*f, 'b.', alpha=0.5)\n",
      "    #plot(t, maxes-f, 'r.', alpha=0.5)\n",
      "    plot(t[i], (max_orig*f)[i], 'ro', ms=5)\n",
      "    y_max = max(f)\n",
      "    xlim(-10,30)\n",
      "    ylim(-100,ceil(y_max/100)*100)\n",
      "    subplot(1,2,2)\n",
      "    plot(t, f, 'k-', alpha=0.7)\n",
      "    plot(t, f_new, 'r-')\n",
      "    xlim(0,50)\n",
      "    ylim(-100,ceil(y_max/100)*100);\n",
      "    savefig(\"Figures/ala_flat_sample adhesion peak removal/adpeak_%d.png\" % id)\n",
      "    clf()"
     ],
     "language": "python",
     "metadata": {},
     "outputs": [
      {
       "output_type": "display_data",
       "text": [
        "<matplotlib.figure.Figure at 0x10d4124d0>"
       ]
      }
     ],
     "prompt_number": 600
    },
    {
     "cell_type": "code",
     "collapsed": false,
     "input": [],
     "language": "python",
     "metadata": {},
     "outputs": []
    }
   ],
   "metadata": {}
  }
 ]
}