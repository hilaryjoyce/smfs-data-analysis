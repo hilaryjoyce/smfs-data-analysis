{
 "metadata": {
  "name": "Multiple coincidence"
 },
 "nbformat": 3,
 "nbformat_minor": 0,
 "worksheets": [
  {
   "cells": [
    {
     "cell_type": "code",
     "collapsed": false,
     "input": [
      "%load_ext autoreload"
     ],
     "language": "python",
     "metadata": {},
     "outputs": [
      {
       "output_type": "stream",
       "stream": "stdout",
       "text": [
        "The autoreload extension is already loaded. To reload it, use:\n",
        "  %reload_ext autoreload\n"
       ]
      }
     ],
     "prompt_number": 85
    },
    {
     "cell_type": "code",
     "collapsed": false,
     "input": [
      "%autoreload 2\n",
      "from Coincidence.coincidence import *\n",
      "from glob import glob"
     ],
     "language": "python",
     "metadata": {},
     "outputs": [],
     "prompt_number": 86
    },
    {
     "cell_type": "code",
     "collapsed": false,
     "input": [
      "super_folder = \"../Data/aLa_flat_medium/\"\n",
      "density_folder = \"../Data/aLa_flat_medium/Transform_analysis/Parameters_p0.4_minTss5_minForce45/Density_text/\"\n",
      "param_folder = \"../Data/aLa_flat_medium/Transform_analysis/Parameters_p0.4_minTss5_minForce45/\""
     ],
     "language": "python",
     "metadata": {},
     "outputs": [],
     "prompt_number": 87
    },
    {
     "cell_type": "code",
     "collapsed": false,
     "input": [
      "density_files = glob(\"%s*.txt\" % density_folder)"
     ],
     "language": "python",
     "metadata": {},
     "outputs": [],
     "prompt_number": 88
    },
    {
     "cell_type": "code",
     "collapsed": false,
     "input": [
      "lc1, d1 = load2Col(density_files[2])\n",
      "lc2, d2 = load2Col(density_files[1])"
     ],
     "language": "python",
     "metadata": {},
     "outputs": [],
     "prompt_number": 89
    },
    {
     "cell_type": "code",
     "collapsed": false,
     "input": [
      "plot(lc1, d1)\n",
      "plot(lc2, d2)\n",
      "xlim(0,80)"
     ],
     "language": "python",
     "metadata": {},
     "outputs": [
      {
       "output_type": "pyout",
       "prompt_number": 90,
       "text": [
        "(0, 80)"
       ]
      },
      {
       "output_type": "display_data",
       "png": "[encoded data removed]",
       "text": [
        "<matplotlib.figure.Figure at 0x10c9bde50>"
       ]
      }
     ],
     "prompt_number": 90
    },
    {
     "cell_type": "code",
     "collapsed": false,
     "input": [
      "print absCoincidence(lc1, d1, d2, shift='No')\n",
      "print absCoincidence(lc1, d1, d2, shift = 0)\n",
      "print absCoincidence(lc1, d1, d2, shift = 100)"
     ],
     "language": "python",
     "metadata": {},
     "outputs": [
      {
       "output_type": "stream",
       "stream": "stdout",
       "text": [
        "(0.99359, 23, 5.75)\n",
        "(0.19077, 0, 0.0)\n",
        "(0.99359, 23, 5.75)"
       ]
      },
      {
       "output_type": "stream",
       "stream": "stdout",
       "text": [
        "\n"
       ]
      }
     ],
     "prompt_number": 91
    },
    {
     "cell_type": "code",
     "collapsed": false,
     "input": [
      "plot(lc1, d1)\n",
      "plot(lc2+5.8, d2)\n",
      "xlim(0,80)"
     ],
     "language": "python",
     "metadata": {},
     "outputs": [
      {
       "output_type": "pyout",
       "prompt_number": 93,
       "text": [
        "(0, 80)"
       ]
      },
      {
       "output_type": "display_data",
       "png": "[encoded data removed]",
       "text": [
        "<matplotlib.figure.Figure at 0x10a931610>"
       ]
      }
     ],
     "prompt_number": 93
    },
    {
     "cell_type": "code",
     "collapsed": false,
     "input": [
      "\n",
      "from scipy.signal import fftconvolve"
     ],
     "language": "python",
     "metadata": {},
     "outputs": [],
     "prompt_number": 94
    },
    {
     "cell_type": "code",
     "collapsed": false,
     "input": [
      "dx = lc1[1] - lc1[0]\n",
      "fft_flip = fftconvolve(d1, d2[::-1], mode = 'full')"
     ],
     "language": "python",
     "metadata": {},
     "outputs": [],
     "prompt_number": 101
    },
    {
     "cell_type": "code",
     "collapsed": false,
     "input": [
      "co_list = CoincidenceList(param_folder, shift = 5)"
     ],
     "language": "python",
     "metadata": {},
     "outputs": [],
     "prompt_number": 95
    },
    {
     "cell_type": "code",
     "collapsed": false,
     "input": [
      "mco_list = MultipleCoincidenceList(param_folder)"
     ],
     "language": "python",
     "metadata": {},
     "outputs": [],
     "prompt_number": 100
    },
    {
     "cell_type": "code",
     "collapsed": false,
     "input": [
      "i = 0\n",
      "while i < len(co_list[0]):\n",
      "    print \"%s\\t%s\\t%g\\t%g\" % (co_list[0][i], co_list[1][i], co_list[2][i], co_list[3][i])\n",
      "    i = i+1"
     ],
     "language": "python",
     "metadata": {},
     "outputs": [
      {
       "output_type": "stream",
       "stream": "stdout",
       "text": [
        "019\t256\t0.2123\t2.75\n",
        "019\ta030\t0.21631\t3.5\n",
        "019\ta693\t0.66345\t3\n",
        "019\tb230\t0.3038\t-5\n",
        "019\tb239\t0\t0\n",
        "019\tb577\t0.56106\t2.75\n",
        "019\tb836\t0.84053\t-4\n",
        "019\tb926\t0.5697\t2.25\n",
        "019\tb933\t0.36553\t2.75\n",
        "019\tb940\t0.33791\t-5\n",
        "019\tc331\t0\t0\n",
        "019\tc339\t0\t0\n",
        "019\tc766\t0.51245\t-5\n",
        "019\tc816\t0.38364\t0\n",
        "256\ta030\t0.96626\t-5\n",
        "256\ta693\t0.18803\t-5\n",
        "256\tb230\t0.55729\t-5\n",
        "256\tb239\t0\t0\n",
        "256\tb577\t0.43039\t-5\n",
        "256\tb836\t0.27555\t-4\n",
        "256\tb926\t0.48969\t-5\n",
        "256\tb933\t0.60945\t-0.75\n",
        "256\tb940\t0.13683\t-5\n",
        "256\tc331\t0\t0\n",
        "256\tc339\t0\t0\n",
        "256\tc766\t0.0632\t-5\n",
        "256\tc816\t0.34483\t-5\n",
        "a030\ta693\t0.1866\t0.25\n",
        "a030\tb230\t0.77264\t-2.25\n",
        "a030\tb239\t0\t0\n",
        "a030\tb577\t0.47934\t-1.25\n",
        "a030\tb836\t0.2738\t1.75\n",
        "a030\tb926\t0.48997\t0\n",
        "a030\tb933\t0.60988\t4.75\n",
        "a030\tb940\t0.29085\t-5\n",
        "a030\tc331\t0\t0\n",
        "a030\tc339\t0\t0\n",
        "a030\tc766\t0.23414\t-5\n",
        "a030\tc816\t0.66487\t-4.25\n",
        "a693\tb230\t0.23929\t-2.25\n",
        "a693\tb239\t0\t0\n",
        "a693\tb577\t0.47984\t-1\n",
        "a693\tb836\t0.52862\t2.25\n",
        "a693\tb926\t0.44428\t0.75\n",
        "a693\tb933\t0.26148\t1.5\n",
        "a693\tb940\t0.21806\t4.75\n",
        "a693\tc331\t0\t0\n",
        "a693\tc339\t0\t0\n",
        "a693\tc766\t0.34549\t-5\n",
        "a693\tc816\t0.285\t-3.5\n",
        "b230\tb239\t0\t0\n",
        "b230\tb577\t0.58326\t1\n",
        "b230\tb836\t0.35062\t3.25\n",
        "b230\tb926\t0.60494\t3\n",
        "b230\tb933\t0.69987\t4.75\n",
        "b230\tb940\t0.66845\t-5\n",
        "b230\tc331\t0\t0\n",
        "b230\tc339\t0\t0\n",
        "b230\tc766\t0.52402\t-5\n",
        "b230\tc816\t0.82988\t-2\n",
        "b239\tb577\t0\t0\n",
        "b239\tb836\t0\t0\n",
        "b239\tb926\t0\t0\n",
        "b239\tb933\t0\t0\n",
        "b239\tb940\t0\t0\n",
        "b239\tc331\t1\t0\n",
        "b239\tc339\t1\t0\n",
        "b239\tc766\t0\t0\n",
        "b239\tc816\t0\t0\n",
        "b577\tb836\t0.50697\t3.5\n",
        "b577\tb926\t0.89333\t2.25\n",
        "b577\tb933\t0.53402\t4.75\n",
        "b577\tb940\t0.41465\t-5\n",
        "b577\tc331\t0\t0\n",
        "b577\tc339\t0\t0\n",
        "b577\tc766\t0.66842\t-5\n",
        "b577\tc816\t0.66236\t-2.75\n",
        "b836\tb926\t0.57956\t-3.5\n",
        "b836\tb933\t0.3639\t4.75\n",
        "b836\tb940\t0.43788\t-0.5\n",
        "b836\tc331\t0\t0\n",
        "b836\tc339\t0\t0\n",
        "b836\tc766\t0.57169\t0\n",
        "b836\tc816\t0.48567\t4.75\n",
        "b926\tb933\t0.66189\t2.25\n",
        "b926\tb940\t0.41322\t-5\n",
        "b926\tc331\t0\t0\n",
        "b926\tc339\t0\t0\n",
        "b926\tc766\t0.51612\t-5\n",
        "b926\tc816\t0.72055\t-3.5\n",
        "b933\tb940\t0.3545\t-5\n",
        "b933\tc331\t0\t0\n",
        "b933\tc339\t0\t0\n",
        "b933\tc766\t0.25712\t-5\n",
        "b933\tc816\t0.76691\t-4\n",
        "b940\tc331\t0\t0\n",
        "b940\tc339\t0\t0\n",
        "b940\tc766\t0.69929\t0.25\n",
        "b940\tc816\t0.85012\t4.75\n",
        "c331\tc339\t1\t0\n",
        "c331\tc766\t0\t0\n",
        "c331\tc816\t0\t0\n",
        "c339\tc766\t0\t0\n",
        "c339\tc816\t0\t0\n",
        "c766\tc816\t0.71531\t4.75\n"
       ]
      }
     ],
     "prompt_number": 82
    }
   ],
   "metadata": {}
  }
 ]
}