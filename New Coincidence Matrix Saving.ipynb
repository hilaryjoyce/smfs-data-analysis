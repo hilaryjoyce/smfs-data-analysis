{
 "metadata": {
  "name": "New Coincidence Matrix Saving"
 },
 "nbformat": 3,
 "nbformat_minor": 0,
 "worksheets": [
  {
   "cells": [
    {
     "cell_type": "code",
     "collapsed": false,
     "input": [
      "%load_ext autoreload\n",
      "from essentials import load2Col, curveNumFinder"
     ],
     "language": "python",
     "metadata": {},
     "outputs": [
      {
       "output_type": "stream",
       "stream": "stdout",
       "text": [
        "The autoreload extension is already loaded. To reload it, use:\n",
        "  %reload_ext autoreload\n"
       ]
      }
     ],
     "prompt_number": 25
    },
    {
     "cell_type": "code",
     "collapsed": false,
     "input": [
      "%autoreload 2\n",
      "def multipleCoincidence(lc, d1, d2, shift_list):\n",
      "    '''\n",
      "    Calculates the coincidence value and associating shift for a list of maximum shifts\n",
      "    for a single pair of curves.\n",
      "    '''\n",
      "    from scipy.signal import fftconvolve\n",
      "    from numpy import dot, sqrt, where, log10\n",
      "\n",
      "    dx = lc[1]-lc[0]\n",
      "    fft_flip = fftconvolve(d1, d2[::-1], mode='full')\n",
      "\n",
      "    Gamma_list = []\n",
      "    x_list = []\n",
      "    u_list = []\n",
      "\n",
      "    for shift in shift_list:\n",
      "        if shift == 0:\n",
      "            max_conv = fft_flip[len(fft_flip)/2]\n",
      "            max_id = 0\n",
      "        elif shift == 'No':\n",
      "            max_conv = max(fft_flip)\n",
      "            max_id = where(fft_flip == max_conv)[0][0]     \n",
      "            max_id = max_id - len(fft_flip)/2\n",
      "        else:\n",
      "            shift_id = shift/dx\n",
      "            shift_left = int(- shift_id + len(fft_flip)/2)\n",
      "            shift_right = int(shift_id + len(fft_flip)/2)\n",
      "            max_conv = max(fft_flip[shift_left:shift_right])\n",
      "            max_id = where(fft_flip == max_conv)[0][0]\n",
      "            max_id = max_id - len(fft_flip)/2\n",
      "\n",
      "        max_lc = max_id*dx\n",
      "\n",
      "        dot_d1 = dot(d1, d1)\n",
      "        dot_d2 = dot(d2, d2)\n",
      "\n",
      "        if (dot_d1 <= dot_d2):\n",
      "            s = sqrt(dot_d1/dot_d2)\n",
      "        else:\n",
      "            s = sqrt(dot_d2/dot_d1)\n",
      "        \n",
      "        Gamma = max_conv / sqrt(dot_d1 * dot_d2) * s\n",
      "        Gamma_list.append(round(Gamma,5))\n",
      "        x_list.append(max_id)\n",
      "        u_list.append(round(max_lc, int(-1*log10(dx)+2)))\n",
      "\n",
      "    return Gamma_list, x_list, u_list"
     ],
     "language": "python",
     "metadata": {},
     "outputs": [],
     "prompt_number": 21
    },
    {
     "cell_type": "code",
     "collapsed": false,
     "input": [
      "def saveAllCoincidence(folder, max_x = 600, shift_list = [0, 5, 10, 15, 20, 30, 50, 100, 'No']):\n",
      "    '''\n",
      "    Calculates the maximum coincidence and associated shift for a list of maximum shifts\n",
      "    for an entire folder of curves (param_folder).\n",
      "    '''\n",
      "    from glob import glob\n",
      "    from time import clock\n",
      "    tstart = clock()\n",
      "    densityFiles = glob(\"%sDensity_text_max%g/*.txt\" % (folder, max_x))\n",
      "\n",
      "    eps = 10**(-3)\n",
      "    N = len(densityFiles)\n",
      "    M = len(shift_list)\n",
      "    count = 0\n",
      "    i = 0\n",
      "\n",
      "    file = open(\"%sall_coincidence_report.txt\" % folder, 'w')\n",
      "    header = \"c1\\tc2\\t\"\n",
      "    for shift in shift_list:\n",
      "        header = header + \"s%s\\tG%s\\t\" % (str(shift), str(shift))\n",
      "    header = header + '\\n'\n",
      "    file.write(header)\n",
      "    \n",
      "    while (i < len(densityFiles)):\n",
      "        t1 = clock()\n",
      "        curve1 = densityFiles[i]\n",
      "        c1, d1 = load2Col(curve1)\n",
      "        curveNum1 = curveNumFinder(curve1)\n",
      "        k = i + 1\n",
      "        while (k < len(densityFiles)):\n",
      "            curve2 = densityFiles[k]\n",
      "            curveNum2 = curveNumFinder(curve2)\n",
      "            c2, d2 = load2Col(curve2)\n",
      "            if (max(d1) == 0 or max(d2) == 0):\n",
      "                u_max, x_max = [0]*M, [0]*M\n",
      "                if (max(d1) == 0 and max(d2) == 0):\n",
      "                    Gamma = [1.0]*M\n",
      "                else:\n",
      "                    Gamma = [0]*M\n",
      "            else:\n",
      "                for shift in shift_list:\n",
      "                    Gamma, u_max, x_max = multipleCoincidence(c1, d1, d2, shift_list)\n",
      "            j = 0\n",
      "            line = '%s\\t%s\\t' % (curveNum1, curveNum2) \n",
      "            while j < len(shift_list):\n",
      "                line = line + '%.3f\\t%5.2f\\t' % (x_max[j], Gamma[j])\n",
      "                j = j+1\n",
      "            line = line + '\\n'\n",
      "            file.write(line)\n",
      "            k = k+1\n",
      "        i += 1\n",
      "        t2 = clock()\n",
      "        print \"Completed %d of %d in %g minutes.\" % (i, N, (t2-t1)/60.0)    \n",
      "    \n",
      "    file.close()\n",
      "    tfinish = clock()\n",
      "    \n",
      "    return 'Completed in %g hours' % ((tfinish-tstart)/3600)"
     ],
     "language": "python",
     "metadata": {},
     "outputs": [],
     "prompt_number": 39
    },
    {
     "cell_type": "code",
     "collapsed": false,
     "input": [
      "folder = \"../Data/aLa_flat_sample/Transform_analysis/Parameters_p0.4_minTss5_minForce45/\"\n",
      "max_x = 200"
     ],
     "language": "python",
     "metadata": {},
     "outputs": [],
     "prompt_number": 40
    },
    {
     "cell_type": "code",
     "collapsed": false,
     "input": [
      "saveAllCoincidence(folder, max_x=200)"
     ],
     "language": "python",
     "metadata": {},
     "outputs": [
      {
       "output_type": "stream",
       "stream": "stdout",
       "text": [
        "Completed 1 of 15 in 0.00384415 minutes.\n",
        "Completed 2 of 15 in 0.00334603 minutes."
       ]
      },
      {
       "output_type": "stream",
       "stream": "stdout",
       "text": [
        "\n",
        "Completed 3 of 15 in 0.00309407 minutes."
       ]
      },
      {
       "output_type": "stream",
       "stream": "stdout",
       "text": [
        "\n",
        "Completed 4 of 15 in 0.00278305 minutes."
       ]
      },
      {
       "output_type": "stream",
       "stream": "stdout",
       "text": [
        "\n",
        "Completed 5 of 15 in 0.00247315 minutes."
       ]
      },
      {
       "output_type": "stream",
       "stream": "stdout",
       "text": [
        "\n",
        "Completed 6 of 15 in 0.0004408 minutes.\n",
        "Completed 7 of 15 in 0.00209997 minutes."
       ]
      },
      {
       "output_type": "stream",
       "stream": "stdout",
       "text": [
        "\n",
        "Completed 8 of 15 in 0.00177788 minutes."
       ]
      },
      {
       "output_type": "stream",
       "stream": "stdout",
       "text": [
        "\n",
        "Completed 9 of 15 in 0.00146852 minutes."
       ]
      },
      {
       "output_type": "stream",
       "stream": "stdout",
       "text": [
        "\n",
        "Completed 10 of 15 in 0.00110267 minutes."
       ]
      },
      {
       "output_type": "stream",
       "stream": "stdout",
       "text": [
        "\n",
        "Completed 11 of 15 in 0.00078845 minutes.\n",
        "Completed 12 of 15 in 0.000161317 minutes."
       ]
      },
      {
       "output_type": "stream",
       "stream": "stdout",
       "text": [
        "\n",
        "Completed 13 of 15 in 0.00013385 minutes.\n",
        "Completed 14 of 15 in 0.000373133 minutes.\n",
        "Completed 15 of 15 in 3.57e-05 minutes.\n"
       ]
      },
      {
       "output_type": "pyout",
       "prompt_number": 41,
       "text": [
        "'Completed in 0.000400399 hours'"
       ]
      }
     ],
     "prompt_number": 41
    },
    {
     "cell_type": "code",
     "collapsed": false,
     "input": [
      "print '%g hours' % (0.3-0.1)/60"
     ],
     "language": "python",
     "metadata": {},
     "outputs": [
      {
       "ename": "TypeError",
       "evalue": "unsupported operand type(s) for /: 'str' and 'int'",
       "output_type": "pyerr",
       "traceback": [
        "\u001b[0;31m---------------------------------------------------------------------------\u001b[0m\n\u001b[0;31mTypeError\u001b[0m                                 Traceback (most recent call last)",
        "\u001b[0;32m<ipython-input-32-eff7a49287b6>\u001b[0m in \u001b[0;36m<module>\u001b[0;34m()\u001b[0m\n\u001b[0;32m----> 1\u001b[0;31m \u001b[0;32mprint\u001b[0m \u001b[0;34m'%g hours'\u001b[0m \u001b[0;34m%\u001b[0m \u001b[0;34m(\u001b[0m\u001b[0;36m0.3\u001b[0m\u001b[0;34m-\u001b[0m\u001b[0;36m0.1\u001b[0m\u001b[0;34m)\u001b[0m\u001b[0;34m/\u001b[0m\u001b[0;36m60\u001b[0m\u001b[0;34m\u001b[0m\u001b[0m\n\u001b[0m",
        "\u001b[0;31mTypeError\u001b[0m: unsupported operand type(s) for /: 'str' and 'int'"
       ]
      }
     ],
     "prompt_number": 32
    },
    {
     "cell_type": "code",
     "collapsed": false,
     "input": [],
     "language": "python",
     "metadata": {},
     "outputs": []
    }
   ],
   "metadata": {}
  }
 ]
}