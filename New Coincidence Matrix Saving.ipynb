{
 "metadata": {
  "name": "New Coincidence Matrix Saving"
 },
 "nbformat": 3,
 "nbformat_minor": 0,
 "worksheets": [
  {
   "cells": [
    {
     "cell_type": "code",
     "collapsed": false,
     "input": [
      "%load_ext autoreload"
     ],
     "language": "python",
     "metadata": {},
     "outputs": [],
     "prompt_number": 1
    },
    {
     "cell_type": "code",
     "collapsed": false,
     "input": [
      "%autoreload 2\n",
      "from glob import glob\n",
      "import os"
     ],
     "language": "python",
     "metadata": {},
     "outputs": [],
     "prompt_number": 2
    },
    {
     "cell_type": "code",
     "collapsed": false,
     "input": [
      "folder = \"../Data/aLa_flat_medium/\"\n",
      "param_folder = \"../Data/aLa_flat_medium/Transform_analysis/Parameters_p0.4_minTss5_minForce45/\"\n",
      "max_x = 200"
     ],
     "language": "python",
     "metadata": {},
     "outputs": [],
     "prompt_number": 56
    },
    {
     "cell_type": "code",
     "collapsed": false,
     "input": [
      "co_folder = '%sCoincidence_max%d/' % (param_folder, max_x)\n",
      "co_file = glob('%sall*.txt' % co_folder)[0]"
     ],
     "language": "python",
     "metadata": {},
     "outputs": [],
     "prompt_number": 57
    },
    {
     "cell_type": "code",
     "collapsed": false,
     "input": [
      "file = open(co_file, 'r')\n",
      "header = file.readline().split()\n",
      "\n",
      "# deal with the header\n",
      "sg_header = header[2:]\n",
      "shift_list = []\n",
      "i = 0\n",
      "while i < len(sg_header):\n",
      "    try:\n",
      "        shift_list.append(int(sg_header[i][1:]))\n",
      "    except:\n",
      "        shift_list.append(sg_header[i][1:])\n",
      "    i = i+2\n",
      "print shift_list\n",
      "N = len(shift_list)\n",
      "\n",
      "shift_data = []\n",
      "i = 0\n",
      "while i < N:\n",
      "    shift_data.append([[],[]])\n",
      "    i = i+1\n",
      "    \n",
      "# break up the rows\n",
      "data = []\n",
      "curve1_list = []\n",
      "curve2_list = []\n",
      "for line in file:\n",
      "    row = line.split()\n",
      "    curve1_list.append(row[0])\n",
      "    curve2_list.append(row[1])\n",
      "    i = 0 \n",
      "    while i < N:\n",
      "        shift_data[i][0].append(float(row[i*2+2]))\n",
      "        shift_data[i][1].append(float(row[i*2+3]))\n",
      "        i = i+1\n",
      "file.close()"
     ],
     "language": "python",
     "metadata": {},
     "outputs": [
      {
       "output_type": "stream",
       "stream": "stdout",
       "text": [
        "[0, 5, 10, 15, 20, 30, 50, 100, 'No']\n"
       ]
      }
     ],
     "prompt_number": 58
    },
    {
     "cell_type": "code",
     "collapsed": false,
     "input": [
      "shift_folders = []\n",
      "for shift in shift_list:\n",
      "    if shift == 'No':\n",
      "        savefolder = \"NoShift/\"\n",
      "    else:\n",
      "        savefolder = \"Shift_%d/\" % int(shift)\n",
      "    \n",
      "    if not os.path.isdir(co_folder+savefolder):\n",
      "        os.mkdir(co_folder+savefolder)\n",
      "    \n",
      "    shift_folders.append(co_folder+savefolder)"
     ],
     "language": "python",
     "metadata": {},
     "outputs": [],
     "prompt_number": 59
    },
    {
     "cell_type": "code",
     "collapsed": false,
     "input": [
      "i = 0\n",
      "for data in shift_data:\n",
      "    with open('%scoincidence_report.txt' % shift_folders[i], 'w') as file:\n",
      "        file.write(\"# c1\\tc2\\tGamma\\tBest shift (nm)\\n\")\n",
      "        k = 0\n",
      "        while k < len(data[0]):\n",
      "            line = '%s\\t%s\\t%.3f\\t%5.2f\\n' % (curve1_list[k], curve2_list[k], data[0][k], data[1][k])\n",
      "            file.write(line)\n",
      "            k = k+1\n",
      "    i = i+1"
     ],
     "language": "python",
     "metadata": {},
     "outputs": [],
     "prompt_number": 60
    },
    {
     "cell_type": "code",
     "collapsed": false,
     "input": [
      "from Coincidence.coincidence import split_all_coincidence"
     ],
     "language": "python",
     "metadata": {},
     "outputs": [],
     "prompt_number": 62
    },
    {
     "cell_type": "code",
     "collapsed": false,
     "input": [
      "split_all_coincidence(param_folder, max_x=200)"
     ],
     "language": "python",
     "metadata": {},
     "outputs": [
      {
       "output_type": "stream",
       "stream": "stdout",
       "text": [
        "[0, 5, 10, 15, 20, 30, 50, 100, 'No']\n"
       ]
      }
     ],
     "prompt_number": 63
    },
    {
     "cell_type": "code",
     "collapsed": false,
     "input": [],
     "language": "python",
     "metadata": {},
     "outputs": []
    }
   ],
   "metadata": {}
  }
 ]
}